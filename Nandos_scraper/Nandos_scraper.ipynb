{
 "cells": [
  {
   "cell_type": "code",
   "execution_count": 1,
   "metadata": {},
   "outputs": [],
   "source": [
    "import requests\n",
    "import urllib.request\n",
    "import urllib.parse\n",
    "import urllib.error\n",
    "from bs4 import BeautifulSoup\n",
    "import ssl\n",
    "import json\n",
    "from selenium.webdriver.common.action_chains import ActionChains\n",
    "import time\n",
    "import os\n",
    "import re\n",
    "from urllib.request import urlopen\n",
    "from pandas.io.json import json_normalize\n",
    "import pandas as pd\n",
    "import numpy as np"
   ]
  },
  {
   "cell_type": "code",
   "execution_count": 2,
   "metadata": {},
   "outputs": [
    {
     "name": "stdout",
     "output_type": "stream",
     "text": [
      "You have 0 1/4 Chicken or any Fire-Starter\n",
      "You have 0 1/2 Chicken or any single wrap, burger or pitta\n",
      "You have 1 Free Whole Chicken or single combo meal with regular sides\n"
     ]
    }
   ],
   "source": [
    "from selenium import webdriver\n",
    "chromedriver = \"C:/webdrivers/chromedriver\"\n",
    "driver = webdriver.Chrome(chromedriver)\n",
    "\n",
    "#Opens Nandos page, logs in and scrapes information\n",
    "driver.get ('https://www.nandos.co.uk/nandos-id/login')\n",
    "driver.find_element_by_id('username').send_keys('bobby*****@gmail.com')\n",
    "driver.find_element_by_id('password').send_keys('*********')\n",
    "driver.find_element_by_id('login').click()\n",
    "\n",
    "soup_level1=BeautifulSoup(driver.page_source, 'lxml')\n",
    "\n",
    "free_chickens = soup_level1.find_all(class_=\"reward__count\")\n",
    "free_chickens = [x.text for x in free_chickens]\n",
    "print('You have ' + free_chickens[0] + ' 1/4 Chicken or any Fire-Starter')\n",
    "print('You have ' + free_chickens[1] + ' 1/2 Chicken or any single wrap, burger or pitta')\n",
    "print('You have ' + free_chickens[2] + ' Free Whole Chicken or single combo meal with regular sides')   "
   ]
  }
 ],
 "metadata": {
  "kernelspec": {
   "display_name": "Python 3",
   "language": "python",
   "name": "python3"
  },
  "language_info": {
   "codemirror_mode": {
    "name": "ipython",
    "version": 3
   },
   "file_extension": ".py",
   "mimetype": "text/x-python",
   "name": "python",
   "nbconvert_exporter": "python",
   "pygments_lexer": "ipython3",
   "version": "3.7.1"
  }
 },
 "nbformat": 4,
 "nbformat_minor": 2
}
