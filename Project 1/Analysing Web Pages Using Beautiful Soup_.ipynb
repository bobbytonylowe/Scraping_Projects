{
 "cells": [
  {
   "cell_type": "markdown",
   "metadata": {},
   "source": [
    "___\n",
    "## __Analysing Web Pages Using Beautiful Soup__\n",
    "\n",
    "- The second part of this code will be analysing the webpages returned from scrapy\n",
    "- Using the library Beautiful soup we can scrape the whole page and search for specific words on the webpage\n",
    "\n",
    "### __Process__\n",
    "__1) Scrape Webpage__\n",
    "- Use the library BeautifulSoup to scrape a webpage\n",
    "\n",
    "__2) Clean Data__\n",
    "- Remove HTML code, non-letters and change all to lower case\n",
    "\n",
    "__3) Analyse Webpages__\n",
    "- Create a function that flags if a particular word has been mentioned on the webpage \n",
    "- This enables us to see if multiple words have been mentioned on one webpage\n",
    "___"
   ]
  },
  {
   "cell_type": "code",
   "execution_count": 1,
   "metadata": {},
   "outputs": [
    {
     "name": "stderr",
     "output_type": "stream",
     "text": [
      "[nltk_data] Downloading package stopwords to\n",
      "[nltk_data]     C:\\Users\\robert.lowe\\AppData\\Roaming\\nltk_data...\n",
      "[nltk_data]   Package stopwords is already up-to-date!\n"
     ]
    },
    {
     "data": {
      "text/plain": [
       "True"
      ]
     },
     "execution_count": 1,
     "metadata": {},
     "output_type": "execute_result"
    }
   ],
   "source": [
    "import requests\n",
    "import pandas as pd\n",
    "import numpy as np\n",
    "from bs4 import BeautifulSoup\n",
    "import re\n",
    "import urllib.request\n",
    "import re\n",
    "from bs4 import BeautifulSoup\n",
    "from urllib.request import Request, urlopen\n",
    "import nltk\n",
    "from nltk.corpus import stopwords\n",
    "nltk.download('stopwords')\n"
   ]
  },
  {
   "cell_type": "code",
   "execution_count": 40,
   "metadata": {},
   "outputs": [],
   "source": [
    "# Example of using BeautifulSoup to scrape a webpage\n",
    "site= \"https://www.flyertalk.com/articles/love-the-smell-of-airports-you-can-spray-your-home-with-a-special-airport-fragrance.html\"\n",
    "hdr = {'User-Agent': 'Mozilla/5.0'}\n",
    "req = Request(site,headers=hdr)\n",
    "page = urlopen(req)\n",
    "soup = BeautifulSoup(page)\n",
    "#print(soup)"
   ]
  },
  {
   "cell_type": "code",
   "execution_count": 41,
   "metadata": {},
   "outputs": [],
   "source": [
    "# Create a simple function to scrape a webpage\n",
    "def scraper(site):\n",
    "    hdr = {'User-Agent': 'Mozilla/4.0 (compatible; MSIE 7.0; Windows NT 5.1)'}\n",
    "    req = Request(site,headers=hdr)\n",
    "    page = urlopen(req)\n",
    "    return BeautifulSoup(page)\n",
    "    "
   ]
  },
  {
   "cell_type": "code",
   "execution_count": 42,
   "metadata": {},
   "outputs": [],
   "source": [
    "# Open the csv file created from scrapy\n",
    "df = pd.read_csv('C:/Users/robert.lowe/wordlist/hotel_info_sample.csv')"
   ]
  },
  {
   "cell_type": "markdown",
   "metadata": {},
   "source": [
    "_____\n",
    "#### __Sample__\n",
    "- For examples purposes, create a sample set of data (100 rows)\n",
    "___"
   ]
  },
  {
   "cell_type": "code",
   "execution_count": 43,
   "metadata": {},
   "outputs": [],
   "source": [
    "df = df.head(100)"
   ]
  },
  {
   "cell_type": "code",
   "execution_count": 45,
   "metadata": {},
   "outputs": [
    {
     "data": {
      "text/html": [
       "<div>\n",
       "<style scoped>\n",
       "    .dataframe tbody tr th:only-of-type {\n",
       "        vertical-align: middle;\n",
       "    }\n",
       "\n",
       "    .dataframe tbody tr th {\n",
       "        vertical-align: top;\n",
       "    }\n",
       "\n",
       "    .dataframe thead th {\n",
       "        text-align: right;\n",
       "    }\n",
       "</style>\n",
       "<table border=\"1\" class=\"dataframe\">\n",
       "  <thead>\n",
       "    <tr style=\"text-align: right;\">\n",
       "      <th></th>\n",
       "      <th>word</th>\n",
       "      <th>site</th>\n",
       "    </tr>\n",
       "  </thead>\n",
       "  <tbody>\n",
       "    <tr>\n",
       "      <th>0</th>\n",
       "      <td>phone</td>\n",
       "      <td>https://www.flyertalk.com</td>\n",
       "    </tr>\n",
       "    <tr>\n",
       "      <th>1</th>\n",
       "      <td>phone</td>\n",
       "      <td>https://www.flyertalk.com/articles/love-the-sm...</td>\n",
       "    </tr>\n",
       "    <tr>\n",
       "      <th>2</th>\n",
       "      <td>phone</td>\n",
       "      <td>https://www.flyertalk.com/articles/author/jacq...</td>\n",
       "    </tr>\n",
       "    <tr>\n",
       "      <th>3</th>\n",
       "      <td>phone</td>\n",
       "      <td>https://www.flyertalk.com/articles/category/pa...</td>\n",
       "    </tr>\n",
       "    <tr>\n",
       "      <th>4</th>\n",
       "      <td>phone</td>\n",
       "      <td>https://www.flyertalk.com/articles/author/anya...</td>\n",
       "    </tr>\n",
       "  </tbody>\n",
       "</table>\n",
       "</div>"
      ],
      "text/plain": [
       "    word                                               site\n",
       "0  phone                          https://www.flyertalk.com\n",
       "1  phone  https://www.flyertalk.com/articles/love-the-sm...\n",
       "2  phone  https://www.flyertalk.com/articles/author/jacq...\n",
       "3  phone  https://www.flyertalk.com/articles/category/pa...\n",
       "4  phone  https://www.flyertalk.com/articles/author/anya..."
      ]
     },
     "execution_count": 45,
     "metadata": {},
     "output_type": "execute_result"
    }
   ],
   "source": [
    "df.head()"
   ]
  },
  {
   "cell_type": "code",
   "execution_count": 48,
   "metadata": {},
   "outputs": [
    {
     "data": {
      "text/plain": [
       "'https://www.flyertalk.com/articles/love-the-smell-of-airports-you-can-spray-your-home-with-a-special-airport-fragrance.html'"
      ]
     },
     "execution_count": 48,
     "metadata": {},
     "output_type": "execute_result"
    }
   ],
   "source": [
    "# Example link\n",
    "x = df.iloc[1, -1]\n",
    "x"
   ]
  },
  {
   "cell_type": "markdown",
   "metadata": {},
   "source": [
    "____\n",
    "__1) Scrape Webpage__\n",
    "- Use the library BeautifulSoup to scrape a webpage\n",
    "____"
   ]
  },
  {
   "cell_type": "code",
   "execution_count": 51,
   "metadata": {},
   "outputs": [],
   "source": [
    "# Apply scraper function on all the sites\n",
    "df['website_info'] = df.site.apply(scraper)"
   ]
  },
  {
   "cell_type": "code",
   "execution_count": 52,
   "metadata": {},
   "outputs": [
    {
     "data": {
      "text/html": [
       "<div>\n",
       "<style scoped>\n",
       "    .dataframe tbody tr th:only-of-type {\n",
       "        vertical-align: middle;\n",
       "    }\n",
       "\n",
       "    .dataframe tbody tr th {\n",
       "        vertical-align: top;\n",
       "    }\n",
       "\n",
       "    .dataframe thead th {\n",
       "        text-align: right;\n",
       "    }\n",
       "</style>\n",
       "<table border=\"1\" class=\"dataframe\">\n",
       "  <thead>\n",
       "    <tr style=\"text-align: right;\">\n",
       "      <th></th>\n",
       "      <th>word</th>\n",
       "      <th>site</th>\n",
       "      <th>website_info</th>\n",
       "    </tr>\n",
       "  </thead>\n",
       "  <tbody>\n",
       "    <tr>\n",
       "      <th>0</th>\n",
       "      <td>phone</td>\n",
       "      <td>https://www.flyertalk.com</td>\n",
       "      <td>&lt;!DOCTYPE html&gt;\n",
       "&lt;html lang=\"en-US\"&gt;\n",
       "&lt;head&gt;\n",
       "&lt;me...</td>\n",
       "    </tr>\n",
       "    <tr>\n",
       "      <th>1</th>\n",
       "      <td>phone</td>\n",
       "      <td>https://www.flyertalk.com/articles/love-the-sm...</td>\n",
       "      <td>&lt;!DOCTYPE html&gt;\n",
       "&lt;html lang=\"en-US\"&gt;\n",
       "&lt;head&gt;\n",
       "&lt;me...</td>\n",
       "    </tr>\n",
       "    <tr>\n",
       "      <th>2</th>\n",
       "      <td>phone</td>\n",
       "      <td>https://www.flyertalk.com/articles/author/jacq...</td>\n",
       "      <td>&lt;!DOCTYPE html&gt;\n",
       "&lt;html lang=\"en-US\"&gt;\n",
       "&lt;head&gt;\n",
       "&lt;me...</td>\n",
       "    </tr>\n",
       "    <tr>\n",
       "      <th>3</th>\n",
       "      <td>phone</td>\n",
       "      <td>https://www.flyertalk.com/articles/category/pa...</td>\n",
       "      <td>&lt;!DOCTYPE html&gt;\n",
       "&lt;html lang=\"en-US\"&gt;\n",
       "&lt;head&gt;\n",
       "&lt;me...</td>\n",
       "    </tr>\n",
       "    <tr>\n",
       "      <th>4</th>\n",
       "      <td>phone</td>\n",
       "      <td>https://www.flyertalk.com/articles/author/anya...</td>\n",
       "      <td>&lt;!DOCTYPE html&gt;\n",
       "&lt;html lang=\"en-US\"&gt;\n",
       "&lt;head&gt;\n",
       "&lt;me...</td>\n",
       "    </tr>\n",
       "  </tbody>\n",
       "</table>\n",
       "</div>"
      ],
      "text/plain": [
       "    word                                               site  \\\n",
       "0  phone                          https://www.flyertalk.com   \n",
       "1  phone  https://www.flyertalk.com/articles/love-the-sm...   \n",
       "2  phone  https://www.flyertalk.com/articles/author/jacq...   \n",
       "3  phone  https://www.flyertalk.com/articles/category/pa...   \n",
       "4  phone  https://www.flyertalk.com/articles/author/anya...   \n",
       "\n",
       "                                        website_info  \n",
       "0  <!DOCTYPE html>\n",
       "<html lang=\"en-US\">\n",
       "<head>\n",
       "<me...  \n",
       "1  <!DOCTYPE html>\n",
       "<html lang=\"en-US\">\n",
       "<head>\n",
       "<me...  \n",
       "2  <!DOCTYPE html>\n",
       "<html lang=\"en-US\">\n",
       "<head>\n",
       "<me...  \n",
       "3  <!DOCTYPE html>\n",
       "<html lang=\"en-US\">\n",
       "<head>\n",
       "<me...  \n",
       "4  <!DOCTYPE html>\n",
       "<html lang=\"en-US\">\n",
       "<head>\n",
       "<me...  "
      ]
     },
     "execution_count": 52,
     "metadata": {},
     "output_type": "execute_result"
    }
   ],
   "source": [
    "df.head()"
   ]
  },
  {
   "cell_type": "code",
   "execution_count": 53,
   "metadata": {},
   "outputs": [],
   "source": [
    "df['website_info'] = df['website_info'].astype(str)"
   ]
  },
  {
   "cell_type": "markdown",
   "metadata": {},
   "source": [
    "___\n",
    "__2) Clean Data__\n",
    "- Remove HTML code, non-letters and change all to lower case\n",
    "___"
   ]
  },
  {
   "cell_type": "code",
   "execution_count": 55,
   "metadata": {},
   "outputs": [],
   "source": [
    "def clean_data( raw_review ):\n",
    "    # Function to convert a raw review to a string of words\n",
    "    #\n",
    "    # 1. Remove HTML\n",
    "    review_text = BeautifulSoup(raw_review).get_text() \n",
    "    #\n",
    "    # 2. Remove non-letters        \n",
    "    letters_only = re.sub(\"[^a-zA-Z]\", \" \", raw_review) \n",
    "    #\n",
    "    # 3. Convert to lower case, split into individual words\n",
    "    words = letters_only.lower().split()                                             \n",
    "    #\n",
    "    return words"
   ]
  },
  {
   "cell_type": "code",
   "execution_count": 56,
   "metadata": {},
   "outputs": [],
   "source": [
    "# apply clean_data function\n",
    "df['Clean_text'] = df.website_info.apply(clean_data)"
   ]
  },
  {
   "cell_type": "code",
   "execution_count": 57,
   "metadata": {},
   "outputs": [
    {
     "data": {
      "text/html": [
       "<div>\n",
       "<style scoped>\n",
       "    .dataframe tbody tr th:only-of-type {\n",
       "        vertical-align: middle;\n",
       "    }\n",
       "\n",
       "    .dataframe tbody tr th {\n",
       "        vertical-align: top;\n",
       "    }\n",
       "\n",
       "    .dataframe thead th {\n",
       "        text-align: right;\n",
       "    }\n",
       "</style>\n",
       "<table border=\"1\" class=\"dataframe\">\n",
       "  <thead>\n",
       "    <tr style=\"text-align: right;\">\n",
       "      <th></th>\n",
       "      <th>word</th>\n",
       "      <th>site</th>\n",
       "      <th>website_info</th>\n",
       "      <th>Clean_text</th>\n",
       "    </tr>\n",
       "  </thead>\n",
       "  <tbody>\n",
       "    <tr>\n",
       "      <th>0</th>\n",
       "      <td>phone</td>\n",
       "      <td>https://www.flyertalk.com</td>\n",
       "      <td>&lt;!DOCTYPE html&gt;\\n&lt;html lang=\"en-US\"&gt;\\n&lt;head&gt;\\n...</td>\n",
       "      <td>doctype html html lang en us head meta charset...</td>\n",
       "    </tr>\n",
       "    <tr>\n",
       "      <th>1</th>\n",
       "      <td>phone</td>\n",
       "      <td>https://www.flyertalk.com/articles/love-the-sm...</td>\n",
       "      <td>&lt;!DOCTYPE html&gt;\\n&lt;html lang=\"en-US\"&gt;\\n&lt;head&gt;\\n...</td>\n",
       "      <td>doctype html html lang en us head meta charset...</td>\n",
       "    </tr>\n",
       "    <tr>\n",
       "      <th>2</th>\n",
       "      <td>phone</td>\n",
       "      <td>https://www.flyertalk.com/articles/author/jacq...</td>\n",
       "      <td>&lt;!DOCTYPE html&gt;\\n&lt;html lang=\"en-US\"&gt;\\n&lt;head&gt;\\n...</td>\n",
       "      <td>doctype html html lang en us head meta charset...</td>\n",
       "    </tr>\n",
       "    <tr>\n",
       "      <th>3</th>\n",
       "      <td>phone</td>\n",
       "      <td>https://www.flyertalk.com/articles/category/pa...</td>\n",
       "      <td>&lt;!DOCTYPE html&gt;\\n&lt;html lang=\"en-US\"&gt;\\n&lt;head&gt;\\n...</td>\n",
       "      <td>doctype html html lang en us head meta charset...</td>\n",
       "    </tr>\n",
       "    <tr>\n",
       "      <th>4</th>\n",
       "      <td>phone</td>\n",
       "      <td>https://www.flyertalk.com/articles/author/anya...</td>\n",
       "      <td>&lt;!DOCTYPE html&gt;\\n&lt;html lang=\"en-US\"&gt;\\n&lt;head&gt;\\n...</td>\n",
       "      <td>doctype html html lang en us head meta charset...</td>\n",
       "    </tr>\n",
       "  </tbody>\n",
       "</table>\n",
       "</div>"
      ],
      "text/plain": [
       "    word                                               site  \\\n",
       "0  phone                          https://www.flyertalk.com   \n",
       "1  phone  https://www.flyertalk.com/articles/love-the-sm...   \n",
       "2  phone  https://www.flyertalk.com/articles/author/jacq...   \n",
       "3  phone  https://www.flyertalk.com/articles/category/pa...   \n",
       "4  phone  https://www.flyertalk.com/articles/author/anya...   \n",
       "\n",
       "                                        website_info  \\\n",
       "0  <!DOCTYPE html>\\n<html lang=\"en-US\">\\n<head>\\n...   \n",
       "1  <!DOCTYPE html>\\n<html lang=\"en-US\">\\n<head>\\n...   \n",
       "2  <!DOCTYPE html>\\n<html lang=\"en-US\">\\n<head>\\n...   \n",
       "3  <!DOCTYPE html>\\n<html lang=\"en-US\">\\n<head>\\n...   \n",
       "4  <!DOCTYPE html>\\n<html lang=\"en-US\">\\n<head>\\n...   \n",
       "\n",
       "                                          Clean_text  \n",
       "0  doctype html html lang en us head meta charset...  \n",
       "1  doctype html html lang en us head meta charset...  \n",
       "2  doctype html html lang en us head meta charset...  \n",
       "3  doctype html html lang en us head meta charset...  \n",
       "4  doctype html html lang en us head meta charset...  "
      ]
     },
     "execution_count": 57,
     "metadata": {},
     "output_type": "execute_result"
    }
   ],
   "source": [
    "df.head()"
   ]
  },
  {
   "cell_type": "markdown",
   "metadata": {},
   "source": [
    "___\n",
    "\n",
    "__3) Analyse Webpages__\n",
    "- Create a function that flags if a particular word has been mentioned on the webpage \n",
    "- This enables us to see if multiple words have been mentioned on one webpage\n",
    "___"
   ]
  },
  {
   "cell_type": "code",
   "execution_count": 1,
   "metadata": {},
   "outputs": [],
   "source": [
    "def Reservation(str):\n",
    "    words = str.split()\n",
    "    counts = 0\n",
    "    for word in words:\n",
    "        if word == 'reservation':\n",
    "            counts += 1\n",
    "        else:\n",
    "            counts == 0\n",
    "    return counts"
   ]
  },
  {
   "cell_type": "code",
   "execution_count": 2,
   "metadata": {},
   "outputs": [],
   "source": [
    "def Booking(str):\n",
    "    words = str.split()\n",
    "    counts = 0\n",
    "    for word in words:\n",
    "        if word == 'booking' or word == 'booked':\n",
    "            counts += 1\n",
    "        else:\n",
    "            counts == 0\n",
    "    return counts"
   ]
  },
  {
   "cell_type": "code",
   "execution_count": 60,
   "metadata": {},
   "outputs": [],
   "source": [
    "df['Reservation_flag'] = df['Clean_text'].apply(Reservation)\n",
    "df['Booking_flag'] = df['Clean_text'].apply(Booking)"
   ]
  },
  {
   "cell_type": "code",
   "execution_count": 61,
   "metadata": {},
   "outputs": [],
   "source": [
    "df['Reservation_flag'] = np.where(((df['Reservation_flag'] >= 1)), 1, 0)\n",
    "df['Booking_flag'] = np.where(((df['Booking_flag'] >= 1)), 1, 0)"
   ]
  },
  {
   "cell_type": "code",
   "execution_count": 62,
   "metadata": {},
   "outputs": [
    {
     "data": {
      "text/html": [
       "<div>\n",
       "<style scoped>\n",
       "    .dataframe tbody tr th:only-of-type {\n",
       "        vertical-align: middle;\n",
       "    }\n",
       "\n",
       "    .dataframe tbody tr th {\n",
       "        vertical-align: top;\n",
       "    }\n",
       "\n",
       "    .dataframe thead th {\n",
       "        text-align: right;\n",
       "    }\n",
       "</style>\n",
       "<table border=\"1\" class=\"dataframe\">\n",
       "  <thead>\n",
       "    <tr style=\"text-align: right;\">\n",
       "      <th></th>\n",
       "      <th>word</th>\n",
       "      <th>site</th>\n",
       "      <th>website_info</th>\n",
       "      <th>Clean_text</th>\n",
       "      <th>Reservation_flag</th>\n",
       "      <th>Booking_flag</th>\n",
       "    </tr>\n",
       "  </thead>\n",
       "  <tbody>\n",
       "    <tr>\n",
       "      <th>0</th>\n",
       "      <td>phone</td>\n",
       "      <td>https://www.flyertalk.com</td>\n",
       "      <td>&lt;!DOCTYPE html&gt;\\n&lt;html lang=\"en-US\"&gt;\\n&lt;head&gt;\\n...</td>\n",
       "      <td>doctype html html lang en us head meta charset...</td>\n",
       "      <td>0</td>\n",
       "      <td>0</td>\n",
       "    </tr>\n",
       "    <tr>\n",
       "      <th>1</th>\n",
       "      <td>phone</td>\n",
       "      <td>https://www.flyertalk.com/articles/love-the-sm...</td>\n",
       "      <td>&lt;!DOCTYPE html&gt;\\n&lt;html lang=\"en-US\"&gt;\\n&lt;head&gt;\\n...</td>\n",
       "      <td>doctype html html lang en us head meta charset...</td>\n",
       "      <td>0</td>\n",
       "      <td>0</td>\n",
       "    </tr>\n",
       "    <tr>\n",
       "      <th>2</th>\n",
       "      <td>phone</td>\n",
       "      <td>https://www.flyertalk.com/articles/author/jacq...</td>\n",
       "      <td>&lt;!DOCTYPE html&gt;\\n&lt;html lang=\"en-US\"&gt;\\n&lt;head&gt;\\n...</td>\n",
       "      <td>doctype html html lang en us head meta charset...</td>\n",
       "      <td>0</td>\n",
       "      <td>0</td>\n",
       "    </tr>\n",
       "    <tr>\n",
       "      <th>3</th>\n",
       "      <td>phone</td>\n",
       "      <td>https://www.flyertalk.com/articles/category/pa...</td>\n",
       "      <td>&lt;!DOCTYPE html&gt;\\n&lt;html lang=\"en-US\"&gt;\\n&lt;head&gt;\\n...</td>\n",
       "      <td>doctype html html lang en us head meta charset...</td>\n",
       "      <td>0</td>\n",
       "      <td>1</td>\n",
       "    </tr>\n",
       "    <tr>\n",
       "      <th>4</th>\n",
       "      <td>phone</td>\n",
       "      <td>https://www.flyertalk.com/articles/author/anya...</td>\n",
       "      <td>&lt;!DOCTYPE html&gt;\\n&lt;html lang=\"en-US\"&gt;\\n&lt;head&gt;\\n...</td>\n",
       "      <td>doctype html html lang en us head meta charset...</td>\n",
       "      <td>0</td>\n",
       "      <td>1</td>\n",
       "    </tr>\n",
       "  </tbody>\n",
       "</table>\n",
       "</div>"
      ],
      "text/plain": [
       "    word                                               site  \\\n",
       "0  phone                          https://www.flyertalk.com   \n",
       "1  phone  https://www.flyertalk.com/articles/love-the-sm...   \n",
       "2  phone  https://www.flyertalk.com/articles/author/jacq...   \n",
       "3  phone  https://www.flyertalk.com/articles/category/pa...   \n",
       "4  phone  https://www.flyertalk.com/articles/author/anya...   \n",
       "\n",
       "                                        website_info  \\\n",
       "0  <!DOCTYPE html>\\n<html lang=\"en-US\">\\n<head>\\n...   \n",
       "1  <!DOCTYPE html>\\n<html lang=\"en-US\">\\n<head>\\n...   \n",
       "2  <!DOCTYPE html>\\n<html lang=\"en-US\">\\n<head>\\n...   \n",
       "3  <!DOCTYPE html>\\n<html lang=\"en-US\">\\n<head>\\n...   \n",
       "4  <!DOCTYPE html>\\n<html lang=\"en-US\">\\n<head>\\n...   \n",
       "\n",
       "                                          Clean_text  Reservation_flag  \\\n",
       "0  doctype html html lang en us head meta charset...                 0   \n",
       "1  doctype html html lang en us head meta charset...                 0   \n",
       "2  doctype html html lang en us head meta charset...                 0   \n",
       "3  doctype html html lang en us head meta charset...                 0   \n",
       "4  doctype html html lang en us head meta charset...                 0   \n",
       "\n",
       "   Booking_flag  \n",
       "0             0  \n",
       "1             0  \n",
       "2             0  \n",
       "3             1  \n",
       "4             1  "
      ]
     },
     "execution_count": 62,
     "metadata": {},
     "output_type": "execute_result"
    }
   ],
   "source": [
    "df.head()"
   ]
  },
  {
   "cell_type": "code",
   "execution_count": 64,
   "metadata": {},
   "outputs": [],
   "source": [
    "df = df.drop(['website_info'], axis = 1)"
   ]
  },
  {
   "cell_type": "code",
   "execution_count": 65,
   "metadata": {},
   "outputs": [],
   "source": [
    "df.to_csv('Phone_booking_project.csv')"
   ]
  }
 ],
 "metadata": {
  "kernelspec": {
   "display_name": "Python 3",
   "language": "python",
   "name": "python3"
  },
  "language_info": {
   "codemirror_mode": {
    "name": "ipython",
    "version": 3
   },
   "file_extension": ".py",
   "mimetype": "text/x-python",
   "name": "python",
   "nbconvert_exporter": "python",
   "pygments_lexer": "ipython3",
   "version": "3.7.1"
  }
 },
 "nbformat": 4,
 "nbformat_minor": 2
}
