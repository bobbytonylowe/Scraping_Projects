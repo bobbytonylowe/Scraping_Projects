{
 "cells": [
  {
   "cell_type": "markdown",
   "metadata": {},
   "source": [
    "___\n",
    "## __Analysing Web Pages Using Beautiful Soup__\n",
    "\n",
    "- The second part of this code will be analysing the webpages returned from scrapy\n",
    "- Using the library Beautiful soup we can scrape the whole page and search for specific words on the webpage\n",
    "\n",
    "### __Process__\n",
    "__1) Scrape Webpage__\n",
    "- Use the library BeautifulSoup to scrape a webpage\n",
    "\n",
    "__2) Clean Data__\n",
    "- Remove HTML code, non-letters and change all to lower case\n",
    "\n",
    "__3) Analyse Webpages__\n",
    "- Create a function that flags if a particular word has been mentioned on the webpage \n",
    "- This enables us to see if multiple words have been mentioned on one webpage\n",
    "___"
   ]
  },
  {
   "cell_type": "code",
   "execution_count": 1,
   "metadata": {},
   "outputs": [
    {
     "name": "stderr",
     "output_type": "stream",
     "text": [
      "[nltk_data] Downloading package stopwords to\n",
      "[nltk_data]     C:\\Users\\robert.lowe\\AppData\\Roaming\\nltk_data...\n",
      "[nltk_data]   Package stopwords is already up-to-date!\n"
     ]
    },
    {
     "data": {
      "text/plain": [
       "True"
      ]
     },
     "execution_count": 1,
     "metadata": {},
     "output_type": "execute_result"
    }
   ],
   "source": [
    "import requests\n",
    "import pandas as pd\n",
    "import numpy as np\n",
    "from bs4 import BeautifulSoup\n",
    "import re\n",
    "import urllib.request\n",
    "import re\n",
    "from bs4 import BeautifulSoup\n",
    "from urllib.request import Request, urlopen\n",
    "import nltk\n",
    "from nltk.corpus import stopwords\n",
    "nltk.download('stopwords')\n"
   ]
  },
  {
   "cell_type": "code",
   "execution_count": 2,
   "metadata": {},
   "outputs": [],
   "source": [
    "# Example of using BeautifulSoup to scrape a webpage\n",
    "# - example shown at the end of the script of a cleaned webpage\n",
    "\n",
    "site= \"https://www.flyertalk.com/articles/love-the-smell-of-airports-you-can-spray-your-home-with-a-special-airport-fragrance.html\"\n",
    "hdr = {'User-Agent': 'Mozilla/5.0'}\n",
    "req = Request(site,headers=hdr)\n",
    "page = urlopen(req)\n",
    "soup = BeautifulSoup(page)\n",
    "#print(soup)"
   ]
  },
  {
   "cell_type": "code",
   "execution_count": 3,
   "metadata": {},
   "outputs": [],
   "source": [
    "# Create a simple function to scrape a webpage\n",
    "def scraper(site):\n",
    "    hdr = {'User-Agent': 'Mozilla/4.0 (compatible; MSIE 7.0; Windows NT 5.1)'}\n",
    "    req = Request(site,headers=hdr)\n",
    "    page = urlopen(req)\n",
    "    return BeautifulSoup(page)\n",
    "    "
   ]
  },
  {
   "cell_type": "code",
   "execution_count": 4,
   "metadata": {},
   "outputs": [],
   "source": [
    "# Open the csv file created from scrapy\n",
    "df = pd.read_csv('C:/Users/robert.lowe/wordlist/hotel_info_sample.csv')"
   ]
  },
  {
   "cell_type": "markdown",
   "metadata": {},
   "source": [
    "_____\n",
    "#### __Sample__\n",
    "- For examples purposes, create a sample set of data (100 rows)\n",
    "___"
   ]
  },
  {
   "cell_type": "code",
   "execution_count": 5,
   "metadata": {},
   "outputs": [],
   "source": [
    "df = df.head(100)"
   ]
  },
  {
   "cell_type": "code",
   "execution_count": 6,
   "metadata": {},
   "outputs": [
    {
     "data": {
      "text/html": [
       "<div>\n",
       "<style scoped>\n",
       "    .dataframe tbody tr th:only-of-type {\n",
       "        vertical-align: middle;\n",
       "    }\n",
       "\n",
       "    .dataframe tbody tr th {\n",
       "        vertical-align: top;\n",
       "    }\n",
       "\n",
       "    .dataframe thead th {\n",
       "        text-align: right;\n",
       "    }\n",
       "</style>\n",
       "<table border=\"1\" class=\"dataframe\">\n",
       "  <thead>\n",
       "    <tr style=\"text-align: right;\">\n",
       "      <th></th>\n",
       "      <th>word</th>\n",
       "      <th>site</th>\n",
       "    </tr>\n",
       "  </thead>\n",
       "  <tbody>\n",
       "    <tr>\n",
       "      <th>0</th>\n",
       "      <td>phone</td>\n",
       "      <td>https://www.flyertalk.com</td>\n",
       "    </tr>\n",
       "    <tr>\n",
       "      <th>1</th>\n",
       "      <td>phone</td>\n",
       "      <td>https://www.flyertalk.com/articles/love-the-sm...</td>\n",
       "    </tr>\n",
       "    <tr>\n",
       "      <th>2</th>\n",
       "      <td>phone</td>\n",
       "      <td>https://www.flyertalk.com/articles/author/jacq...</td>\n",
       "    </tr>\n",
       "    <tr>\n",
       "      <th>3</th>\n",
       "      <td>phone</td>\n",
       "      <td>https://www.flyertalk.com/articles/category/pa...</td>\n",
       "    </tr>\n",
       "    <tr>\n",
       "      <th>4</th>\n",
       "      <td>phone</td>\n",
       "      <td>https://www.flyertalk.com/articles/author/anya...</td>\n",
       "    </tr>\n",
       "  </tbody>\n",
       "</table>\n",
       "</div>"
      ],
      "text/plain": [
       "    word                                               site\n",
       "0  phone                          https://www.flyertalk.com\n",
       "1  phone  https://www.flyertalk.com/articles/love-the-sm...\n",
       "2  phone  https://www.flyertalk.com/articles/author/jacq...\n",
       "3  phone  https://www.flyertalk.com/articles/category/pa...\n",
       "4  phone  https://www.flyertalk.com/articles/author/anya..."
      ]
     },
     "execution_count": 6,
     "metadata": {},
     "output_type": "execute_result"
    }
   ],
   "source": [
    "df.head()"
   ]
  },
  {
   "cell_type": "code",
   "execution_count": 7,
   "metadata": {},
   "outputs": [
    {
     "data": {
      "text/plain": [
       "'https://www.flyertalk.com/articles/love-the-smell-of-airports-you-can-spray-your-home-with-a-special-airport-fragrance.html'"
      ]
     },
     "execution_count": 7,
     "metadata": {},
     "output_type": "execute_result"
    }
   ],
   "source": [
    "# Example link\n",
    "x = df.iloc[1, -1]\n",
    "x"
   ]
  },
  {
   "cell_type": "markdown",
   "metadata": {},
   "source": [
    "____\n",
    "__1) Scrape Webpage__\n",
    "- Use the library BeautifulSoup to scrape a webpage\n",
    "____"
   ]
  },
  {
   "cell_type": "code",
   "execution_count": 8,
   "metadata": {},
   "outputs": [],
   "source": [
    "# Apply scraper function on all the sites\n",
    "df['website_info'] = df.site.apply(scraper)"
   ]
  },
  {
   "cell_type": "code",
   "execution_count": 9,
   "metadata": {},
   "outputs": [
    {
     "data": {
      "text/html": [
       "<div>\n",
       "<style scoped>\n",
       "    .dataframe tbody tr th:only-of-type {\n",
       "        vertical-align: middle;\n",
       "    }\n",
       "\n",
       "    .dataframe tbody tr th {\n",
       "        vertical-align: top;\n",
       "    }\n",
       "\n",
       "    .dataframe thead th {\n",
       "        text-align: right;\n",
       "    }\n",
       "</style>\n",
       "<table border=\"1\" class=\"dataframe\">\n",
       "  <thead>\n",
       "    <tr style=\"text-align: right;\">\n",
       "      <th></th>\n",
       "      <th>word</th>\n",
       "      <th>site</th>\n",
       "      <th>website_info</th>\n",
       "    </tr>\n",
       "  </thead>\n",
       "  <tbody>\n",
       "    <tr>\n",
       "      <th>0</th>\n",
       "      <td>phone</td>\n",
       "      <td>https://www.flyertalk.com</td>\n",
       "      <td>&lt;!DOCTYPE html&gt;\n",
       "&lt;html lang=\"en-US\"&gt;\n",
       "&lt;head&gt;\n",
       "&lt;me...</td>\n",
       "    </tr>\n",
       "    <tr>\n",
       "      <th>1</th>\n",
       "      <td>phone</td>\n",
       "      <td>https://www.flyertalk.com/articles/love-the-sm...</td>\n",
       "      <td>&lt;!DOCTYPE html&gt;\n",
       "&lt;html lang=\"en-US\"&gt;\n",
       "&lt;head&gt;\n",
       "&lt;me...</td>\n",
       "    </tr>\n",
       "    <tr>\n",
       "      <th>2</th>\n",
       "      <td>phone</td>\n",
       "      <td>https://www.flyertalk.com/articles/author/jacq...</td>\n",
       "      <td>&lt;!DOCTYPE html&gt;\n",
       "&lt;html lang=\"en-US\"&gt;\n",
       "&lt;head&gt;\n",
       "&lt;me...</td>\n",
       "    </tr>\n",
       "    <tr>\n",
       "      <th>3</th>\n",
       "      <td>phone</td>\n",
       "      <td>https://www.flyertalk.com/articles/category/pa...</td>\n",
       "      <td>&lt;!DOCTYPE html&gt;\n",
       "&lt;html lang=\"en-US\"&gt;\n",
       "&lt;head&gt;\n",
       "&lt;me...</td>\n",
       "    </tr>\n",
       "    <tr>\n",
       "      <th>4</th>\n",
       "      <td>phone</td>\n",
       "      <td>https://www.flyertalk.com/articles/author/anya...</td>\n",
       "      <td>&lt;!DOCTYPE html&gt;\n",
       "&lt;html lang=\"en-US\"&gt;\n",
       "&lt;head&gt;\n",
       "&lt;me...</td>\n",
       "    </tr>\n",
       "  </tbody>\n",
       "</table>\n",
       "</div>"
      ],
      "text/plain": [
       "    word                                               site  \\\n",
       "0  phone                          https://www.flyertalk.com   \n",
       "1  phone  https://www.flyertalk.com/articles/love-the-sm...   \n",
       "2  phone  https://www.flyertalk.com/articles/author/jacq...   \n",
       "3  phone  https://www.flyertalk.com/articles/category/pa...   \n",
       "4  phone  https://www.flyertalk.com/articles/author/anya...   \n",
       "\n",
       "                                        website_info  \n",
       "0  <!DOCTYPE html>\n",
       "<html lang=\"en-US\">\n",
       "<head>\n",
       "<me...  \n",
       "1  <!DOCTYPE html>\n",
       "<html lang=\"en-US\">\n",
       "<head>\n",
       "<me...  \n",
       "2  <!DOCTYPE html>\n",
       "<html lang=\"en-US\">\n",
       "<head>\n",
       "<me...  \n",
       "3  <!DOCTYPE html>\n",
       "<html lang=\"en-US\">\n",
       "<head>\n",
       "<me...  \n",
       "4  <!DOCTYPE html>\n",
       "<html lang=\"en-US\">\n",
       "<head>\n",
       "<me...  "
      ]
     },
     "execution_count": 9,
     "metadata": {},
     "output_type": "execute_result"
    }
   ],
   "source": [
    "df.head()"
   ]
  },
  {
   "cell_type": "code",
   "execution_count": 10,
   "metadata": {},
   "outputs": [],
   "source": [
    "df['website_info'] = df['website_info'].astype(str)"
   ]
  },
  {
   "cell_type": "markdown",
   "metadata": {},
   "source": [
    "___\n",
    "__2) Clean Data__\n",
    "- Remove HTML code, non-letters and change all to lower case\n",
    "___"
   ]
  },
  {
   "cell_type": "code",
   "execution_count": 11,
   "metadata": {},
   "outputs": [],
   "source": [
    "def clean_data( raw_review ):\n",
    "    # Function to convert a raw review to a string of words\n",
    "    #\n",
    "    # 1. Remove HTML\n",
    "    review_text = BeautifulSoup(raw_review).get_text() \n",
    "    #\n",
    "    # 2. Remove non-letters        \n",
    "    letters_only = re.sub(\"[^a-zA-Z]\", \" \", raw_review) \n",
    "    #\n",
    "    # 3. Convert to lower case, split into individual words\n",
    "    words = letters_only.lower()                                           \n",
    "    #\n",
    "    return words"
   ]
  },
  {
   "cell_type": "code",
   "execution_count": 12,
   "metadata": {},
   "outputs": [],
   "source": [
    "# apply clean_data function\n",
    "df['Clean_text'] = df.website_info.apply(clean_data)"
   ]
  },
  {
   "cell_type": "code",
   "execution_count": 13,
   "metadata": {},
   "outputs": [
    {
     "data": {
      "text/html": [
       "<div>\n",
       "<style scoped>\n",
       "    .dataframe tbody tr th:only-of-type {\n",
       "        vertical-align: middle;\n",
       "    }\n",
       "\n",
       "    .dataframe tbody tr th {\n",
       "        vertical-align: top;\n",
       "    }\n",
       "\n",
       "    .dataframe thead th {\n",
       "        text-align: right;\n",
       "    }\n",
       "</style>\n",
       "<table border=\"1\" class=\"dataframe\">\n",
       "  <thead>\n",
       "    <tr style=\"text-align: right;\">\n",
       "      <th></th>\n",
       "      <th>word</th>\n",
       "      <th>site</th>\n",
       "      <th>website_info</th>\n",
       "      <th>Clean_text</th>\n",
       "    </tr>\n",
       "  </thead>\n",
       "  <tbody>\n",
       "    <tr>\n",
       "      <th>0</th>\n",
       "      <td>phone</td>\n",
       "      <td>https://www.flyertalk.com</td>\n",
       "      <td>&lt;!DOCTYPE html&gt;\\n&lt;html lang=\"en-US\"&gt;\\n&lt;head&gt;\\n...</td>\n",
       "      <td>doctype html   html lang  en us    head   me...</td>\n",
       "    </tr>\n",
       "    <tr>\n",
       "      <th>1</th>\n",
       "      <td>phone</td>\n",
       "      <td>https://www.flyertalk.com/articles/love-the-sm...</td>\n",
       "      <td>&lt;!DOCTYPE html&gt;\\n&lt;html lang=\"en-US\"&gt;\\n&lt;head&gt;\\n...</td>\n",
       "      <td>doctype html   html lang  en us    head   me...</td>\n",
       "    </tr>\n",
       "    <tr>\n",
       "      <th>2</th>\n",
       "      <td>phone</td>\n",
       "      <td>https://www.flyertalk.com/articles/author/jacq...</td>\n",
       "      <td>&lt;!DOCTYPE html&gt;\\n&lt;html lang=\"en-US\"&gt;\\n&lt;head&gt;\\n...</td>\n",
       "      <td>doctype html   html lang  en us    head   me...</td>\n",
       "    </tr>\n",
       "    <tr>\n",
       "      <th>3</th>\n",
       "      <td>phone</td>\n",
       "      <td>https://www.flyertalk.com/articles/category/pa...</td>\n",
       "      <td>&lt;!DOCTYPE html&gt;\\n&lt;html lang=\"en-US\"&gt;\\n&lt;head&gt;\\n...</td>\n",
       "      <td>doctype html   html lang  en us    head   me...</td>\n",
       "    </tr>\n",
       "    <tr>\n",
       "      <th>4</th>\n",
       "      <td>phone</td>\n",
       "      <td>https://www.flyertalk.com/articles/author/anya...</td>\n",
       "      <td>&lt;!DOCTYPE html&gt;\\n&lt;html lang=\"en-US\"&gt;\\n&lt;head&gt;\\n...</td>\n",
       "      <td>doctype html   html lang  en us    head   me...</td>\n",
       "    </tr>\n",
       "  </tbody>\n",
       "</table>\n",
       "</div>"
      ],
      "text/plain": [
       "    word                                               site  \\\n",
       "0  phone                          https://www.flyertalk.com   \n",
       "1  phone  https://www.flyertalk.com/articles/love-the-sm...   \n",
       "2  phone  https://www.flyertalk.com/articles/author/jacq...   \n",
       "3  phone  https://www.flyertalk.com/articles/category/pa...   \n",
       "4  phone  https://www.flyertalk.com/articles/author/anya...   \n",
       "\n",
       "                                        website_info  \\\n",
       "0  <!DOCTYPE html>\\n<html lang=\"en-US\">\\n<head>\\n...   \n",
       "1  <!DOCTYPE html>\\n<html lang=\"en-US\">\\n<head>\\n...   \n",
       "2  <!DOCTYPE html>\\n<html lang=\"en-US\">\\n<head>\\n...   \n",
       "3  <!DOCTYPE html>\\n<html lang=\"en-US\">\\n<head>\\n...   \n",
       "4  <!DOCTYPE html>\\n<html lang=\"en-US\">\\n<head>\\n...   \n",
       "\n",
       "                                          Clean_text  \n",
       "0    doctype html   html lang  en us    head   me...  \n",
       "1    doctype html   html lang  en us    head   me...  \n",
       "2    doctype html   html lang  en us    head   me...  \n",
       "3    doctype html   html lang  en us    head   me...  \n",
       "4    doctype html   html lang  en us    head   me...  "
      ]
     },
     "execution_count": 13,
     "metadata": {},
     "output_type": "execute_result"
    }
   ],
   "source": [
    "df.head()"
   ]
  },
  {
   "cell_type": "markdown",
   "metadata": {},
   "source": [
    "___\n",
    "\n",
    "__3) Analyse Webpages__\n",
    "- Create a function that flags if a particular word has been mentioned on the webpage \n",
    "- This enables us to see if multiple words have been mentioned on one webpage\n",
    "___"
   ]
  },
  {
   "cell_type": "code",
   "execution_count": 14,
   "metadata": {},
   "outputs": [],
   "source": [
    "def Reservation(str):\n",
    "    words = str.split()\n",
    "    counts = 0\n",
    "    for word in words:\n",
    "        if word == 'reservation':\n",
    "            counts += 1\n",
    "        else:\n",
    "            counts == 0\n",
    "    return counts"
   ]
  },
  {
   "cell_type": "code",
   "execution_count": 15,
   "metadata": {},
   "outputs": [],
   "source": [
    "def Booking(str):\n",
    "    words = str.split()\n",
    "    counts = 0\n",
    "    for word in words:\n",
    "        if word == 'booking' or word == 'booked':\n",
    "            counts += 1\n",
    "        else:\n",
    "            counts == 0\n",
    "    return counts"
   ]
  },
  {
   "cell_type": "code",
   "execution_count": 16,
   "metadata": {},
   "outputs": [],
   "source": [
    "df['Reservation_flag'] = df['Clean_text'].apply(Reservation)\n",
    "df['Booking_flag'] = df['Clean_text'].apply(Booking)"
   ]
  },
  {
   "cell_type": "code",
   "execution_count": 17,
   "metadata": {},
   "outputs": [],
   "source": [
    "df['Reservation_flag'] = np.where(((df['Reservation_flag'] >= 1)), 1, 0)\n",
    "df['Booking_flag'] = np.where(((df['Booking_flag'] >= 1)), 1, 0)"
   ]
  },
  {
   "cell_type": "code",
   "execution_count": 18,
   "metadata": {},
   "outputs": [
    {
     "data": {
      "text/html": [
       "<div>\n",
       "<style scoped>\n",
       "    .dataframe tbody tr th:only-of-type {\n",
       "        vertical-align: middle;\n",
       "    }\n",
       "\n",
       "    .dataframe tbody tr th {\n",
       "        vertical-align: top;\n",
       "    }\n",
       "\n",
       "    .dataframe thead th {\n",
       "        text-align: right;\n",
       "    }\n",
       "</style>\n",
       "<table border=\"1\" class=\"dataframe\">\n",
       "  <thead>\n",
       "    <tr style=\"text-align: right;\">\n",
       "      <th></th>\n",
       "      <th>word</th>\n",
       "      <th>site</th>\n",
       "      <th>website_info</th>\n",
       "      <th>Clean_text</th>\n",
       "      <th>Reservation_flag</th>\n",
       "      <th>Booking_flag</th>\n",
       "    </tr>\n",
       "  </thead>\n",
       "  <tbody>\n",
       "    <tr>\n",
       "      <th>0</th>\n",
       "      <td>phone</td>\n",
       "      <td>https://www.flyertalk.com</td>\n",
       "      <td>&lt;!DOCTYPE html&gt;\\n&lt;html lang=\"en-US\"&gt;\\n&lt;head&gt;\\n...</td>\n",
       "      <td>doctype html   html lang  en us    head   me...</td>\n",
       "      <td>0</td>\n",
       "      <td>0</td>\n",
       "    </tr>\n",
       "    <tr>\n",
       "      <th>1</th>\n",
       "      <td>phone</td>\n",
       "      <td>https://www.flyertalk.com/articles/love-the-sm...</td>\n",
       "      <td>&lt;!DOCTYPE html&gt;\\n&lt;html lang=\"en-US\"&gt;\\n&lt;head&gt;\\n...</td>\n",
       "      <td>doctype html   html lang  en us    head   me...</td>\n",
       "      <td>0</td>\n",
       "      <td>0</td>\n",
       "    </tr>\n",
       "    <tr>\n",
       "      <th>2</th>\n",
       "      <td>phone</td>\n",
       "      <td>https://www.flyertalk.com/articles/author/jacq...</td>\n",
       "      <td>&lt;!DOCTYPE html&gt;\\n&lt;html lang=\"en-US\"&gt;\\n&lt;head&gt;\\n...</td>\n",
       "      <td>doctype html   html lang  en us    head   me...</td>\n",
       "      <td>0</td>\n",
       "      <td>0</td>\n",
       "    </tr>\n",
       "    <tr>\n",
       "      <th>3</th>\n",
       "      <td>phone</td>\n",
       "      <td>https://www.flyertalk.com/articles/category/pa...</td>\n",
       "      <td>&lt;!DOCTYPE html&gt;\\n&lt;html lang=\"en-US\"&gt;\\n&lt;head&gt;\\n...</td>\n",
       "      <td>doctype html   html lang  en us    head   me...</td>\n",
       "      <td>0</td>\n",
       "      <td>1</td>\n",
       "    </tr>\n",
       "    <tr>\n",
       "      <th>4</th>\n",
       "      <td>phone</td>\n",
       "      <td>https://www.flyertalk.com/articles/author/anya...</td>\n",
       "      <td>&lt;!DOCTYPE html&gt;\\n&lt;html lang=\"en-US\"&gt;\\n&lt;head&gt;\\n...</td>\n",
       "      <td>doctype html   html lang  en us    head   me...</td>\n",
       "      <td>0</td>\n",
       "      <td>1</td>\n",
       "    </tr>\n",
       "  </tbody>\n",
       "</table>\n",
       "</div>"
      ],
      "text/plain": [
       "    word                                               site  \\\n",
       "0  phone                          https://www.flyertalk.com   \n",
       "1  phone  https://www.flyertalk.com/articles/love-the-sm...   \n",
       "2  phone  https://www.flyertalk.com/articles/author/jacq...   \n",
       "3  phone  https://www.flyertalk.com/articles/category/pa...   \n",
       "4  phone  https://www.flyertalk.com/articles/author/anya...   \n",
       "\n",
       "                                        website_info  \\\n",
       "0  <!DOCTYPE html>\\n<html lang=\"en-US\">\\n<head>\\n...   \n",
       "1  <!DOCTYPE html>\\n<html lang=\"en-US\">\\n<head>\\n...   \n",
       "2  <!DOCTYPE html>\\n<html lang=\"en-US\">\\n<head>\\n...   \n",
       "3  <!DOCTYPE html>\\n<html lang=\"en-US\">\\n<head>\\n...   \n",
       "4  <!DOCTYPE html>\\n<html lang=\"en-US\">\\n<head>\\n...   \n",
       "\n",
       "                                          Clean_text  Reservation_flag  \\\n",
       "0    doctype html   html lang  en us    head   me...                 0   \n",
       "1    doctype html   html lang  en us    head   me...                 0   \n",
       "2    doctype html   html lang  en us    head   me...                 0   \n",
       "3    doctype html   html lang  en us    head   me...                 0   \n",
       "4    doctype html   html lang  en us    head   me...                 0   \n",
       "\n",
       "   Booking_flag  \n",
       "0             0  \n",
       "1             0  \n",
       "2             0  \n",
       "3             1  \n",
       "4             1  "
      ]
     },
     "execution_count": 18,
     "metadata": {},
     "output_type": "execute_result"
    }
   ],
   "source": [
    "df.head()"
   ]
  },
  {
   "cell_type": "code",
   "execution_count": 19,
   "metadata": {},
   "outputs": [],
   "source": [
    "df = df.drop(['website_info'], axis = 1)"
   ]
  },
  {
   "cell_type": "code",
   "execution_count": 20,
   "metadata": {},
   "outputs": [],
   "source": [
    "df.to_csv('Phone_booking_project.csv')"
   ]
  },
  {
   "cell_type": "markdown",
   "metadata": {},
   "source": [
    "___\n",
    "### Example of a cleaned webpage\n",
    "\n",
    "- It is still a little messy\n",
    "- I could clean further by passing each word into a english dictionary function, however it is probably not necassary as you can just look at the webpage link\n",
    "___"
   ]
  },
  {
   "cell_type": "code",
   "execution_count": 22,
   "metadata": {},
   "outputs": [
    {
     "data": {
      "text/plain": [
       "'  doctype html   html lang  en us    head   meta charset  utf       meta content  width device width  initial scale      name  viewport     title          you can totally make your home smell like an airport   flyertalk   the world s most popular frequent flyer community          title   script src    code jquery com jquery        min js    script   link href  https   maxcdn bootstrapcdn com bootstrap       css bootstrap min css  rel  stylesheet     script src  https   maxcdn bootstrapcdn com bootstrap       js bootstrap min js    script   link href  https   www flyertalk com feed  rel  alternate  title  rss      type  application rss xml     link href  https   www flyertalk com feed rss  rel  alternate  title  rss      type  text xml     link href  https   www flyertalk com feed atom  rel  alternate  title  atom      type  application atom xml     link href  https   www flyertalk com xmlrpc php  rel  pingback     link href  https   www flyertalk com wp content themes topnews css flt header footer css  rel  stylesheet     link href  https   www flyertalk com wp content themes topnews css flt article css  rel  stylesheet     link href  https   www flyertalk com wp content themes topnews css flt homepage css  rel  stylesheet          link rel  stylesheet  href  https   www flyertalk com wp content themes topnews css flt responsive css          link href  https   www flyertalk com wp content themes topnews css masonry style css  rel  stylesheet     meta content  https   www flyertalk com wp content uploads                                  changiscent courtesysingaporechangiairport       x    jpg  property  og image     meta content  article  property  og type     meta content  if you just can t get over the intoxicating aroma of the most recent airport you were in  you re in luck   a number of airports and airlines are creating bespoke scents they spray throughout the airport to help travelers relax and have good memories of the time they spent waiting for their flights   property  og description     link href    rel  author     link href    ajax googleapis com  rel  dns prefetch     link href    maxcdn bootstrapcdn com  rel  dns prefetch     link href    fonts googleapis com  rel  dns prefetch     link href    s w org  rel  dns prefetch     link href  https   www flyertalk com feed  rel  alternate  title  flyertalk   the world s most popular frequent flyer community   feed  type  application rss xml     link href  https   www flyertalk com comments feed  rel  alternate  title  flyertalk   the world s most popular frequent flyer community   comments feed  type  application rss xml     link href  https   www flyertalk com articles love the smell of airports you can spray your home with a special airport fragrance html feed  rel  alternate  title  flyertalk   the world s most popular frequent flyer community   you can totally make your home smell like an airport comments feed  type  application rss xml     script type  text javascript      window  wpemojisettings     baseurl   https     s w org  images  core  emoji           x       ext    png   svgurl   https     s w org  images  core  emoji         svg     svgext    svg   source    concatemoji   https     www flyertalk com  wp includes  js  wp emoji release min js ver               function a b c  function d a  var b c d e f string fromcharcode if  k   k filltext return   switch k clearrect     j width j height  k textbaseline  top  k font        px arial  a  case flag  return k filltext f                                 j todataurl   length  e     k clearrect     j width j height  k filltext f                                          b j todataurl   k clearrect     j width j height  k filltext f                               c j todataurl   b   c  case emoji   return k filltext f                                                d j todataurl   k clearrect     j width j height  k filltext f                                           e j todataurl   d   e return   function e a  var c b createelement  script   c src a c defer c type  text javascript  b getelementsbytagname  head      appendchild c  var f g h i j b createelement  canvas   k j getcontext  j getcontext   d   for i array  flag   emoji    c supports  everything    everythingexceptflag     h   h i length h   c supports i h   d i h   c supports everything c supports everything  c supports i h    flag    i h    c supports everythingexceptflag c supports everythingexceptflag  c supports i h    c supports everythingexceptflag c supports everythingexceptflag   c supports flag c domready    c readycallback function   c domready     c supports everything   g function   c readycallback    b addeventlistener  b addeventlistener  domcontentloaded  g     a addeventlistener  load  g       a attachevent  onload  g  b attachevent  onreadystatechange  function    complete    b readystate  c readycallback      f c source     f concatemoji e f concatemoji  f wpemoji  f twemoji   e f twemoji  e f wpemoji     window document window  wpemojisettings       script   style type  text css   img wp smiley  img emoji    display  inline  important   border  none  important   box shadow  none  important   height   em  important   width   em  important   margin       em  important   vertical align      em  important   background  none  important   padding     important      style   style type  text css     style  link href  https   www flyertalk com wp content plugins ft transporter transporter css ver           id  mcninja post transporter css  media  all  rel  stylesheet  type  text css         if lt ie      link rel  stylesheet  id  iecss css   href  https   www flyertalk com wp content themes topnews css iecss css ver        type  text css  media  all        endif      link href  https   www flyertalk com wp content themes topnews style css ver        id  mvp style css  media  all  rel  stylesheet  type  text css     link href  https   www flyertalk com wp content themes topnews css reset css ver        id  reset css  media  all  rel  stylesheet  type  text css     link href    maxcdn bootstrapcdn com font awesome       css font awesome min css ver        id  fontawesome css  media  all  rel  stylesheet  type  text css     link href  https   www flyertalk com wp content themes topnews css flt responsive css ver        id  flt responsive css  media  all  rel  stylesheet  type  text css     link href  https   www flyertalk com wp content themes topnews css media queries css ver        id  media queries css  media  all  rel  stylesheet  type  text css     link href  https   www flyertalk com wp content plugins menufication css menufication min css ver        id  menufication css css  media  all  rel  stylesheet  type  text css     link href  https   www flyertalk com wp content themes topnews css menufication css ver        id  menufication css  media  all  rel  stylesheet  type  text css     link href    fonts googleapis com css family open sans          id  googlefonts css  media  screen  rel  stylesheet  type  text css     script src  https   www flyertalk com wp includes js jquery jquery js ver         type  text javascript    script   script src  https   www flyertalk com wp includes js jquery jquery migrate min js ver        type  text javascript    script   script src    ajax googleapis com ajax libs angularjs        angular min js ver        type  text javascript    script   script src  https   www flyertalk com wp content themes topnews js flt homepage js ver        type  text javascript    script   script type  text javascript         cdata     var wp menufication     element    wp menufication   enable menufication   on   headerlogo   http     www flyertalk com  wp content  uploads            flyertalk logo png   headerlogolink     index php   menulogo      menutext      triggerwidth         addhomelink  null  addhometext      addsearchfield   on   hidedefaultmenu   on   onlymobile  null  direction   left   theme   dark   childmenusupport   on   childmenuselector   sub menu  children   activeclassselector   current menu item  current page item  active   enableswipe   on   docapitalization  null  supportandroidabove         disableslidescaling  null  toggleelement      custommenuelement      customfixedheader      addtofixedholder      page menu support  null  wraptagsinlist      allowedtags   div  nav  ul  ol  li  a  p  h   h   h   h   span  form  input  search   customcss      is page menu      enablemultiple      is user logged in                   script   script src  https   www flyertalk com wp content plugins menufication js jquery menufication min js ver        type  text javascript    script   script src  https   www flyertalk com wp content plugins menufication js menufication setup js ver        type  text javascript    script   link href  https   www flyertalk com wp json   rel  https   api w org      link href  https   www flyertalk com xmlrpc php rsd  rel  edituri  title  rsd  type  application rsd xml     link href  https   www flyertalk com wp includes wlwmanifest xml  rel  wlwmanifest  type  application wlwmanifest xml     meta content  wordpress        name  generator     link href  https   www flyertalk com articles love the smell of airports you can spray your home with a special airport fragrance html  rel  canonical     link href  https   www flyertalk com  p        rel  shortlink     link href  https   www flyertalk com wp json oembed     embed url https  a  f  fwww flyertalk com  farticles  flove the smell of airports you can spray your home with a special airport fragrance html  rel  alternate  type  application json oembed     link href  https   www flyertalk com wp json oembed     embed url https  a  f  fwww flyertalk com  farticles  flove the smell of airports you can spray your home with a special airport fragrance html amp format xml  rel  alternate  type  text xml oembed         begin wp parsely plugin version             meta content          id  wp parsely version  name  wp parsely version     script type  application ld json         context   http     schema org    type   newsarticle   mainentityofpage     type   webpage    id   http     www flyertalk com  articles  love the smell of airports you can spray your home with a special airport fragrance html    headline   you can totally make your home smell like an airport   url   http     www flyertalk com  articles  love the smell of airports you can spray your home with a special airport fragrance html   thumbnailurl   https     www flyertalk com  wp content  uploads                                     changiscent courtesysingaporechangiairport      x    jpg   image     type   imageobject   url   https     www flyertalk com  wp content  uploads                                     changiscent courtesysingaporechangiairport      x    jpg    datecreated             t        z   datepublished             t        z   datemodified             t        z   articlesection   airports   author      type   person   name   jennifer billock     creator    jennifer billock    publisher     type   organization   name   flyertalk   the world      s most popular frequent flyer community    keywords    airports   fragrance   memories        script       end wp parsely plugin version             style type  text css     import url   fonts googleapis com css family oswald                                     ubuntu                                     roboto                                     subset latin latin ext cyrillic cyrillic ext greek ext greek vietnamese     wallpaper    background  url   no repeat            a  a visited   woocommerce ul products li product  price   woocommerce page ul products li product  price  p comment tab text a  p comment tab text a visited    color    f          ul social drop list   mobile menu wrap hover   mobile nav  menu    background    f           main nav  menu li  mega dropdown   main nav  menu li ul sub menu   search bar   search button hover   social nav hover    background    f           main nav  menu li hover ul sub menu   main nav  menu li hover ul sub menu li a    color   ffffff       main nav  menu li hover ul sub menu li a   main nav  menu li hover ul mega list li a   search button hover   social nav hover span   searchform input   mobile menu wrap hover    color   ffffff       main nav  menu li hover ul sub menu li menu item has children hover a after   main nav  menu li hover ul sub menu li menu item has children a after    border color  transparent transparent transparent  ffffff      a hover  h  a hover   sidebar list text a hover  span author name a hover   widget split right a hover   widget full list text a hover    color   f            read more fb a hover   read more twit a hover   read more comment a hover   post tags a hover   tag cloud a hover    background   f            nav wrap   more nav contain   main nav contain   nav right   nav spacer   menufication top   menufication non css  top    background   ffffff       more nav contain before    background   moz linear gradient to left   ffffff  rgba                   background   ms linear gradient to left   ffffff  rgba                   background   o linear gradient to left   ffffff  rgba                   background   webkit linear gradient to left   ffffff  rgba                   background  linear gradient to left   ffffff  rgba                       main nav  menu li a   social nav span   mobile menu wrap  ul ubermenu nav li a   search button    color    f           main nav  menu li menu item has children a after    border color    f     transparent transparent transparent       prev next text a   prev next text a visited   prev next text a hover  ul post social list li post social comm a   sidebar mobi tab  span mobi tab but  ul tabber header li active  h  sidebar header   sidebar scroll wrap  ul tabber header li hover  span post tags header    background    f           woocommerce  widget price filter  price slider wrapper  ui widget content    background color    f          span social count num    color    f          span img cat   read more comment a   infscr loading  span comment but text   woocommerce a button   woocommerce button button   woocommerce input button   woocommerce  respond input submit   woocommerce  content input button   woocommerce page a button   woocommerce page button button   woocommerce page input button   woocommerce page  respond input submit   woocommerce page  content input button   woocommerce div product form cart  button   woocommerce  content div product form cart  button   woocommerce page div product form cart  button   woocommerce page  content div product form cart  button   woocommerce a button alt   woocommerce button button alt   woocommerce input button alt   woocommerce  respond input submit alt   woocommerce  content input button alt   woocommerce page a button alt   woocommerce page button button alt   woocommerce page input button alt   woocommerce page  respond input submit alt   woocommerce page  content input button alt   woocommerce a button hover   woocommerce button button hover   woocommerce input button hover   woocommerce  respond input submit hover   woocommerce  content input button hover   woocommerce page a button hover   woocommerce page button button hover   woocommerce page input button hover   woocommerce page  respond input submit hover   woocommerce page  content input button hover   woocommerce div product form cart  button hover   woocommerce  content div product form cart  button hover   woocommerce page div product form cart  button hover   woocommerce page  content div product form cart  button hover   woocommerce a button alt   woocommerce button button alt   woocommerce input button alt   woocommerce  respond input submit alt   woocommerce  content input button alt   woocommerce page a button alt   woocommerce page button button alt   woocommerce page input button alt   woocommerce page  respond input submit alt   woocommerce page  content input button alt   woocommerce a button alt hover   woocommerce button button alt hover   woocommerce input button alt hover   woocommerce  respond input submit alt hover   woocommerce  content input button alt hover   woocommerce page a button alt hover   woocommerce page button button alt hover   woocommerce page input button alt hover   woocommerce page  respond input submit alt hover   woocommerce page  content input button alt hover   woocommerce span onsale   woocommerce page span onsale   woocommerce  widget price filter  ui slider  ui slider range    background     aeef       woocommerce  widget price filter  ui slider  ui slider handle    background color     aeef       category header wrap h   ul trending list li trending head   woocommerce  woocommerce product rating  star rating   woocommerce page  woocommerce product rating  star rating   woocommerce  products  star rating   woocommerce page  products  star rating    color     aeef       main nav  menu li a hover   main nav  menu li hover a    border bottom   px solid    aeef       main nav  menu li a  ul ubermenu nav li a    font family   ubuntu   sans serif       featured multi main text h    featured multi sub text h    widget full list text a   widget split right a   home widget large text a   home widget list text a   widget list small text a   story contain text h   h  story title   full wide text a   main nav  menu li hover ul mega list li a  ul trending list li trending head   grid main text h    grid sub text h    content area blockquote p   woo content h    woo content h    woo content h    woo content h    woo content h    woo content h    content area h    content area h    content area h    content area h    content area h    content area h   ul trending list li a   sidebar list text a   sidebar list text a visited    font family   oswald   sans serif      body   searchform input   add to cart button   woocommerce  woocommerce result count   woocommerce page  woocommerce result count    font family  roboto  sans serif       menufication outer wrap light  menufication top  menufication btn before   menufication outer wrap light  menufication non css  top  menufication non css  btn before   menufication non css  outer wrap light  menufication top  menufication btn before   menufication non css  outer wrap light  menufication non css  top  menufication non css  btn before    border color    f      important       menufication top  menufication btn before   menufication non css  top  menufication non css  btn before    border bottom    px double   f       border top   px solid   f            style   style type  text css        media screen and  max width     px       social bottom     margin bottom    px                 style   style type  text css     style   script class  kxct  data id  sh clsjtt  data timing  async  data version       type  text javascript    window krux    krux function   krux q push arguments    q        function     var k document createelement  script   k type  text javascript  k async true   k src  location protocol    https    https    http       cdn krxd net controltag sh clsjtt js    var s document getelementsbytagname  script      s parentnode insertbefore k s             script   script class  kxint  data namespace  internetbrands  type  text javascript    window krux    krux function   krux q push arguments     q        function       function retrieve n        var k   kx   internetbrands   n  ls  function           try            return window localstorage           catch e             return null                           if  ls             return ls k                else if  navigator cookieenabled             var m   document cookie match k                       return  m    unescape m                    else            return                    krux user   retrieve  user       krux segments   retrieve  segs     retrieve  segs   split                      script   script       window datalayer   window datalayer             window datalayer push            topic    airports   fragrance   memories               script   script type  text javascript        var gptadslots          var googletag   googletag             googletag cmd   googletag cmd              function    var gads   document createelement  script             gads async   true  gads type    text javascript            var usessl    https      document location protocol           gads src    usessl    https      http         www googletagservices com tag js gpt js            var node   document getelementsbytagname  script                node parentnode insertbefore gads  node                 script   script type  text javascript        googletag cmd push function              var arsmtop   googletag sizemapping             addsize                                  addsize                              build             var arsmbottom   googletag sizemapping             addsize                                  addsize                              build             gptadslots     googletag defineslot        ft blog    x   top loggedout                                  div gpt ad                        settargeting  kw    top    settargeting  kw    value    definesizemapping arsmtop  addservice googletag pubads              gptadslots     googletag defineslot        ft blog    x   bottom loggedout               div gpt ad                        settargeting  kw    bottom    addservice googletag pubads              gptadslots     googletag defineslot        ft blog    x    top loggedout                div gpt ad                        settargeting  kw    top    addservice googletag pubads                  googletag pubads   enablesinglerequest             googletag pubads   settargeting  topic    airports   fragrance   memories                      googletag pubads   settargeting  ksg   krux segments  settargeting  kuid   krux user            googletag pubads   enableasyncrendering             googletag enableservices                script  script async    src    js sec indexww com ht p                       js    script   script     function i s o g r a m  i  googleanalyticsobject   r i r  i r   function       i r  q i r  q      push arguments   i r  l   new date   a s createelement o     m s getelementsbytagname o     a async   a src g m parentnode insertbefore a m       window document  script     www google analytics com analytics js   ga      ga  create    ua              auto      window optimizely   window optimizely          window optimizely push  activateuniversalanalytics      ga  send    pageview      script   script   function d  s  host  ipid    var e   d createelement s   e type    application javascript   e async      e src          host     intellitxt front asp ipid     ipid  d getelementsbytagname s     parentnode appendchild e       document   script    k intellitxt com            script    head   body class  post template default single single post postid       single format standard infinite scroll neverending    div id  site    header      class  hidden sm hidden md      div class  left relative  id  nav wrap    div class  content out    div class  content in    div class  left  id  nav contain    div id  nav contain out    div class  left  id  nav logo  itemscope    itemtype    schema org organization    a href  https   www flyertalk com  itemprop  url    img alt  flyertalk   the world s most popular frequent flyer community  itemprop  logo  src  https   www flyertalk com wp content themes topnews images logos logo flyertalk png      a    div      nav logo     div id  nav contain in    div id  main nav out    div id  main nav in    nav   div class  mobile menu hide    div class  menu main menu container   ul class  menu  id  menu main menu   div id  wp menufication   li class  menufication search holder   form action  https   www flyertalk com wp php  id  searchform  method  get    input id  s  name  s  onblur  if  this value          this value    type search term and press enter      onfocus  if  this value     type search term and press enter     this value          type  text  value  type search term and press enter     input id  searchsubmit  type  hidden  value  search      form    li  li class  mega dropdown menu item menu item type taxonomy menu item object category menu item has children menu item        id  menu item         a href  https   www flyertalk com articles category news  news  a   ul class  sub menu    li class  menu item menu item type taxonomy menu item object category menu item        id  menu item         a href  https   www flyertalk com articles category airlines  airlines  a   li   li class  menu item menu item type taxonomy menu item object category menu item        id  menu item         a href  https   www flyertalk com articles category hotels  hotels  a   li   li class  menu item menu item type taxonomy menu item object category current post ancestor current menu parent current post parent menu item        id  menu item         a href  https   www flyertalk com articles category airports  airports  a   li   li class  menu item menu item type taxonomy menu item object category menu item        id  menu item         a href  https   www flyertalk com articles category columns  columns  a   li    ul    li   li class  menu item menu item type custom menu item object custom menu item has children menu item        id  menu item         a href   forum  forum  a   ul class  sub menu    li class  menu item menu item type custom menu item object custom menu item        id  menu item         a href   forum register php action signup  create free account  a   li   li class  menu item menu item type custom menu item object custom menu item        id  menu item         a href   forum airlines mileage programs      airlines  amp  mileage programs  a   li   li class  menu item menu item type custom menu item object custom menu item        id  menu item         a href   forum hotels loyalty programs       hotels  amp  loyalty programs  a   li   li class  menu item menu item type custom menu item object custom menu item        id  menu item         a href   forum miles points    miles  amp  points  a   li   li class  menu item menu item type custom menu item object custom menu item        id  menu item         a href   forum travel dining      travel  amp  dining  a   li   li class  menu item menu item type custom menu item object custom menu item        id  menu item         a href   forum destinations      destinations  a   li   li class  menu item menu item type custom menu item object custom menu item        id  menu item         a href   forum community       community  a   li   li class  menu item menu item type custom menu item object custom menu item        id  menu item         a href   forum omni      omni  a   li   li class  menu item menu item type custom menu item object custom menu item        id  menu item         a href   forum information desk         welcome what information desk forum html  information desk  a   li   li class  menu item menu item type custom menu item object custom menu item        id  menu item         a href   forum search php  search forums  a   li   li class  menu item menu item type custom menu item object custom menu item        id  menu item         a href   help rules php  rules  a   li    ul    li   li class  menu item menu item type custom menu item object custom menu item has children menu item        id  menu item         a href   forum usercp php  myflyertalk  a   ul class  sub menu    li class  menu item menu item type custom menu item object custom menu item        id  menu item         a href   forum private php  private messages  a   li   li class  menu item menu item type custom menu item object custom menu item        id  menu item         a href   forum subscription php  subscribed threads  a   li   li class  menu item menu item type custom menu item object custom menu item        id  menu item         a href   flightconnect   flight connect  a   li   li class  menu item menu item type custom menu item object custom menu item        id  menu item         a href   forum lounge connect php  lounge connect  a   li    ul    li   li class  menu item menu item type custom menu item object custom menu item        id  menu item         a href   forum hotelreview map  hotel reviews  a   li   li class  menu item menu item type custom menu item object custom menu item has children menu item        id  menu item         a href   help   help  a   ul class  sub menu    li class  menu item menu item type custom menu item object custom menu item        id  menu item         a href   acl  airport code lookup  a   li   li class  menu item menu item type custom menu item object custom menu item        id  menu item         a href   forum login php do lostpw  forgot password  a   li   li class  menu item menu item type custom menu item object custom menu item        id  menu item         a href   wiki  ft wiki  a   li   li class  menu item menu item type custom menu item object custom menu item        id  menu item         a href   glossary   glossary  a   li   li class  menu item menu item type custom menu item object custom menu item        id  menu item         a href   forum support services      support forum  a   li   li class  menu item menu item type custom menu item object custom menu item        id  menu item         a href   help rules php  rules  a   li   li class  menu item menu item type custom menu item object custom menu item        id  menu item         a href   help feedbacktxt php  contact us  a   li    ul    li   li class  menu item menu item type custom menu item object custom menu item has children menu item        id  menu item         a href     about  a   ul class  sub menu    li class  menu item menu item type custom menu item object custom menu item        id  menu item         a href   help about php  about flyertalk  a   li   li class  menu item menu item type custom menu item object custom menu item        id  menu item         a href   legal notices php  legal notices  a   li   li class  menu item menu item type custom menu item object custom menu item        id  menu item         a href   help privacy php  privacy policy  a   li   li class  menu item menu item type custom menu item object custom menu item        id  menu item         a href   awards  flyertalk awards  a   li   li class  menu item menu item type custom menu item object custom menu item        id  menu item         a href   explore  hotel reviews  a   li   li class  menu item menu item type custom menu item object custom menu item        id  menu item         a href   store   flyertalk merchandise  a   li   li class  menu item menu item type custom menu item object custom menu item        id  menu item         a href   forum flyertalk cares      flyertalk cares  a   li    ul    li    div   ul   div    div      mobile menu hide     div id  nav out    div id  nav in    div class  main nav left main nav contain hidden sm hidden xs    div class  main nav in left    div class  menu main menu container   ul class  menu  id  menu main menu     li class  menufication search holder   form action  https   www flyertalk com wp php  id  searchform  method  get    input id  s  name  s  onblur  if  this value          this value    type search term and press enter      onfocus  if  this value     type search term and press enter     this value          type  text  value  type search term and press enter     input id  searchsubmit  type  hidden  value  search      form    li  li class  mega dropdown menu item menu item type taxonomy menu item object category menu item has children menu item         a href  https   www flyertalk com articles category news  news  a  div class  mega dropdown   div class  mega dropdown out   div class  mega dropdown in   ul class  mega list   li  div class  mega img   a href  https   www flyertalk com articles united cuts all ties with seaworld html   img alt    class  unlazy wp post image  height       sizes   max width     px     vw     px  src  https   www flyertalk com wp content uploads             px seaworld orlando shamu         x    jpg  srcset  https   www flyertalk com wp content uploads             px seaworld orlando shamu         x    jpg    w  https   www flyertalk com wp content uploads             px seaworld orlando shamu          x    jpg     w  width          a   div  a href  https   www flyertalk com articles united cuts all ties with seaworld html  united cuts all ties with seaworld  a   li  li  div class  mega img   a href  https   www flyertalk com articles are you sure theres no homophobia where youre traveling tinder has the answer html   img alt  shutterstock zjuzjaka  class  unlazy wp post image  height       sizes   max width     px     vw     px  src  https   www flyertalk com wp content uploads         shutterstock              x    jpg  srcset  https   www flyertalk com wp content uploads         shutterstock              x    jpg    w  https   www flyertalk com wp content uploads         shutterstock               x    jpg     w  width          a   div  a href  https   www flyertalk com articles are you sure theres no homophobia where youre traveling tinder has the answer html  are you sure there s no homophobia where you re traveling   a   li  li  div class  mega img   a href  https   www flyertalk com articles this is not a drill cell phones are a risk on certain boeing planes html   img alt    class  unlazy wp post image  height       sizes   max width     px     vw     px  src  https   www flyertalk com wp content uploads         gallery interior full        x    jpg  srcset  https   www flyertalk com wp content uploads         gallery interior full        x    jpg    w  https   www flyertalk com wp content uploads         gallery interior full         x    jpg     w  width          a   div  a href  https   www flyertalk com articles this is not a drill cell phones are a risk on certain boeing planes html  this is not a drill  cell phones are a risk on certain boeing planes  a   li  li  div class  mega img   a href  https   www flyertalk com articles open skies debate returns to the white house html   img alt    class  unlazy wp post image  height       sizes   max width     px     vw     px  src  https   www flyertalk com wp content uploads         white house                x    jpg  srcset  https   www flyertalk com wp content uploads         white house                x    jpg    w  https   www flyertalk com wp content uploads         white house                 x    jpg     w  width          a   div  a href  https   www flyertalk com articles open skies debate returns to the white house html   open skies  debate returns to the white house  a   li  li  div class  mega img   a href  https   www flyertalk com articles are you a member of the mile cry club html   img alt    class  unlazy wp post image  height       sizes   max width     px     vw     px  src  https   www flyertalk com wp content uploads         shutterstock              x    jpg  srcset  https   www flyertalk com wp content uploads         shutterstock              x    jpg    w  https   www flyertalk com wp content uploads         shutterstock               x    jpg     w  width          a   div  a href  https   www flyertalk com articles are you a member of the mile cry club html  are you a member of the mile cry club   a   li   ul   div   div   div   ul class  sub menu    li class  menu item menu item type taxonomy menu item object category menu item         a href  https   www flyertalk com articles category airlines  airlines  a   li   li class  menu item menu item type taxonomy menu item object category menu item         a href  https   www flyertalk com articles category hotels  hotels  a   li   li class  menu item menu item type taxonomy menu item object category current post ancestor current menu parent current post parent menu item         a href  https   www flyertalk com articles category airports  airports  a   li   li class  menu item menu item type taxonomy menu item object category menu item         a href  https   www flyertalk com articles category columns  columns  a   li    ul    li   li class  menu item menu item type custom menu item object custom menu item has children menu item         a href   forum  forum  a   ul class  sub menu    li class  menu item menu item type custom menu item object custom menu item         a href   forum register php action signup  create free account  a   li   li class  menu item menu item type custom menu item object custom menu item         a href   forum airlines mileage programs      airlines  amp  mileage programs  a   li   li class  menu item menu item type custom menu item object custom menu item         a href   forum hotels loyalty programs       hotels  amp  loyalty programs  a   li   li class  menu item menu item type custom menu item object custom menu item         a href   forum miles points    miles  amp  points  a   li   li class  menu item menu item type custom menu item object custom menu item         a href   forum travel dining      travel  amp  dining  a   li   li class  menu item menu item type custom menu item object custom menu item         a href   forum destinations      destinations  a   li   li class  menu item menu item type custom menu item object custom menu item         a href   forum community       community  a   li   li class  menu item menu item type custom menu item object custom menu item         a href   forum omni      omni  a   li   li class  menu item menu item type custom menu item object custom menu item         a href   forum information desk         welcome what information desk forum html  information desk  a   li   li class  menu item menu item type custom menu item object custom menu item         a href   forum search php  search forums  a   li   li class  menu item menu item type custom menu item object custom menu item         a href   help rules php  rules  a   li    ul    li   li class  menu item menu item type custom menu item object custom menu item has children menu item         a href   forum usercp php  myflyertalk  a   ul class  sub menu    li class  menu item menu item type custom menu item object custom menu item         a href   forum private php  private messages  a   li   li class  menu item menu item type custom menu item object custom menu item         a href   forum subscription php  subscribed threads  a   li   li class  menu item menu item type custom menu item object custom menu item         a href   flightconnect   flight connect  a   li   li class  menu item menu item type custom menu item object custom menu item         a href   forum lounge connect php  lounge connect  a   li    ul    li   li class  menu item menu item type custom menu item object custom menu item         a href   forum hotelreview map  hotel reviews  a   li   li class  menu item menu item type custom menu item object custom menu item has children menu item         a href   help   help  a   ul class  sub menu    li class  menu item menu item type custom menu item object custom menu item         a href   acl  airport code lookup  a   li   li class  menu item menu item type custom menu item object custom menu item         a href   forum login php do lostpw  forgot password  a   li   li class  menu item menu item type custom menu item object custom menu item         a href   wiki  ft wiki  a   li   li class  menu item menu item type custom menu item object custom menu item         a href   glossary   glossary  a   li   li class  menu item menu item type custom menu item object custom menu item         a href   forum support services      support forum  a   li   li class  menu item menu item type custom menu item object custom menu item         a href   help rules php  rules  a   li   li class  menu item menu item type custom menu item object custom menu item         a href   help feedbacktxt php  contact us  a   li    ul    li   li class  menu item menu item type custom menu item object custom menu item has children menu item         a href     about  a   ul class  sub menu    li class  menu item menu item type custom menu item object custom menu item         a href   help about php  about flyertalk  a   li   li class  menu item menu item type custom menu item object custom menu item         a href   legal notices php  legal notices  a   li   li class  menu item menu item type custom menu item object custom menu item         a href   help privacy php  privacy policy  a   li   li class  menu item menu item type custom menu item object custom menu item         a href   awards  flyertalk awards  a   li   li class  menu item menu item type custom menu item object custom menu item         a href   explore  hotel reviews  a   li   li class  menu item menu item type custom menu item object custom menu item         a href   store   flyertalk merchandise  a   li   li class  menu item menu item type custom menu item object custom menu item         a href   forum flyertalk cares      flyertalk cares  a   li    ul    li    ul   div    div      main nav in      div      main nav      div      nav in      div      nav out      nav    div      main nav in     div class  nav spacer     div   div id  nav right    div id  my flt button    a href   forum usercp php    img alt  my flyertalk  src  https   www flyertalk com wp content themes topnews images logos my flt logo png      a    div   div id  search button    i class  fa fa search fa      i    div      search button     div class  relative  id  social nav    span class  fb nav   i class  fa fa facebook fa      i   span   span class  twit nav   i class  fa fa twitter fa      i   span   span class  plus nav   i class  fa fa plus fa      i   span   div id  social dropdown    ul class  social drop list relative    a alt  facebook  href  https   www facebook com flyertalkforums  target   blank    li class  fb drop    i class  fa fa facebook square fa      i   p facebook  p    li    a   a alt  twitter  href  https   twitter com flyertalk  target   blank    li class  twit drop    i class  fa fa twitter fa      i   p twitter  p    li    a   a href  https   www flyertalk com feed rss  target   blank    li class  rss drop    i class  fa fa rss fa      i   p rss  p    li    a    ul    div      social dropdown      div      social nav      div      nav right     div id  search bar    form action  https   www flyertalk com wp php  id  searchform  method  get    input id  s  name  s  onblur  if  this value          this value    type search term and press enter      onfocus  if  this value     type search term and press enter     this value          type  text  value  type search term and press enter     input id  searchsubmit  type  hidden  value  search      form    div      search bar      div      main nav out      div      nav contain in      div      nav contain out      div      nav contain      div      content in      div      content out      div      nav wrap     div class  stat container    div id  page info         the largest expert travel community               ul   li id  total users          total members  li   li id  online users         users online now  li   li id  total forums            threads  li   li id  total posts             posts  li    ul    div   div    header   div class  left relative  id  head wrap    div class  head wrap out    div class  head wrap in    div class  content out    div class  content in    div class  left relative  id  leader wrapper    div id  div gpt ad                         script type  text javascript        googletag cmd push function     googletag display  div gpt ad                                  script    div    div      leaderboard wrapper      div      content in      div      content out     div class  content out    div class  content in     div     content in      div     content out      div     head wrap in      div     head wrap out      div     head wrap     div class  left relative social bottom  id  content wrapper    div class  content out    div class  content in  itemscope    itemtype  http   schema org article    div class  relative  id  post social out    div id  post social wrap    ul class  post social list left relative    li class  post social fb    a href     onclick  window open  http   www facebook com sharer php u https   www flyertalk com articles love the smell of airports you can spray your home with a special airport fragrance html amp t you can totally make your home smell like an airport    facebookshare    width     height        return false   title  share on facebook   i class  fa fa facebook fa      i   a    li   li class  post social twit    a href     onclick  window open  http   twitter com share url http   stg flyertalkpro  dhcp internetbrands com amp text you can totally make your home smell like an airport    twittershare    width     height        return false   title  tweet this post   i class  fa fa twitter fa      i   a    li   li class  post social pin    a href     onclick  window open  http   pinterest com pin create button  url https   www flyertalk com articles love the smell of airports you can spray your home with a special airport fragrance html amp media https   www flyertalk com wp content uploads                                  changiscent courtesysingaporechangiairport       x    jpg amp description you can totally make your home smell like an airport    pinterestshare    width     height        return false   title  pin this post   i class  fa fa pinterest fa      i   a    li   li class  post social goog    a href     onclick  window open  https   plusone google com      confirm hl en us amp url https   www flyertalk com articles love the smell of airports you can spray your home with a special airport fragrance html    googleshare    width     height        return false   target   blank  title  share on google    i class  fa fa google plus fa      i   a    li   li class  post social comm    a class  comment click  href  https   www flyertalk com articles love the smell of airports you can spray your home with a special airport fragrance html comments   i class  fa fa comments fa      i   a    li    ul    div     post social wrap     div id  post social in    div id  post content out    div id  post content in    div class  left relative  id  post content contain    article class  post       post type post status publish format standard has post thumbnail hentry category airports tag airports   tag fragrance tag memories  id  post article  post id           div class  relative  id  post content wrapper    div class  left relative post area  id  post area    div class  post cat contain left relative post cat mob    span class  img cat left    a href  https   www flyertalk com articles category airports  airports  a   span    div     post cat contain     div style  clear both    div   h  class  story title entry title  itemprop  name headline  you can totally make your home smell like an airport  h    div class  relative  id  right content    div class  left relative  id  content area  itemprop  articlebody    div class  relative  id  feat img reg    img itemprop  image  src  https   www flyertalk com wp content uploads                                  changiscent courtesysingaporechangiairport       x    jpg      div     feat img reg     div class  hide title    span class  entry title  itemprop  name headline  you can totally make your home smell like an airport  span    div     hide title     div id  left content mobi    div class  author img left    img alt  jennifer billock  class  avatar avatar     wp user avatar wp user avatar     alignnone photo  height      src  https   www flyertalk com wp content uploads         jenbillock jpg  width          div     author img     div class  author info mob wrap    span class  vcard author    span class  author name left fn  itemprop  author   a href  https   www flyertalk com articles author jenniferbillock  title  posts by jennifer billock  jennifer billock  a   span    span   div class  post date wrap left relative post date mob    span class  post date   time class  post date updated  datetime              itemprop  datepublished  pubdate    july           time   span    div     post date wrap      div     author info mob wrap      div     left content mobi     p  em if you just can t get over the intoxicating aroma of the most recent airport you were in  you re in luck   a number of airports and airlines are creating bespoke scents they spray throughout the airport to help travelers relax and have good memories of the time they spent waiting for their flights   em   p   p forget that alluring new car smell  now  your entire world can smell like an airport  but that doesn t mean the scent of sweaty travelers irritated with long lines and wait times  it s actually something more relaxing  many airports have created bespoke scents they spray throughout the common areas in order to help travelers relax and enjoy their time at the airport  some airlines do it  too  spraying their scent throughout gate areas   p   p at singapore s changi airport  the custom scent is a mix of orchid  damask rose  asian spices  and calming essential oils  it s available to purchase in the gift shop of jewel  the airport s new shopping and entertainment area with the world s largest indoor waterfall  so you can take it home and relive your time at the airport in your house   p   p california s san luis obispo county regional airport also has a special scent  evoking memories of relaxation like the time you went to the spa   p   p  honestly  we borrowed the idea from the hotel industry  where many properties have branded scents that welcome guests to the lobbies   kevin bumen  director of the airport   a href  https   www cnbc com            my house smells like an airport yours can too html  told  em cnbc  em   a     when we opened   we decided one thing we could do was to add scent in the ticketing areas and in bag claim  those are the first and last areas passengers  experience  and they can be points of stress and confusion  so we tested several fragrances and chose a spa like scent that conveys the idea that the airport is fresh and clean and relaxing    p   p    p   p  featured image  singapore changi airport   p   div class  post tags post tags mobi    span class  post tags header  related items  span  span itemprop  keywords   a href  https   www flyertalk com articles tag airports    rel  tag  airports  a  a href  https   www flyertalk com articles tag fragrance  rel  tag  fragrance  a  a href  https   www flyertalk com articles tag memories  rel  tag  memories  a   span    div     post tags      div     content area     div class  left relative comment click  id  comments button    span class  comment but text   i class  fa fa comments fa      i  view comments      span    div     comments button     div id  comments    h  class  post header   span class  post header        comments    span   h    ol class  commentlist    li class  comment byuser comment author        even thread even depth    id  li comment          div class  comment wrapper  id  comment          div class  comment inner    div class  comment avatar    img alt    class  avatar avatar  wp user avatar wp user avatar  photo avatar default  src  https   www flyertalk com wp content uploads         defaultavatar jpg      div   div class  commentmeta    p class  comment meta      cite class  fn   a class  url  href  https   www flyertalk com forum member php u         rel  external nofollow  dbcubix  a   cite    p   p class  comment meta           july          at      pm             p    div   div class  text    div class  c    p i ll wait for the ewr scentsy   p    div    div       text       div class  clear    div   div class  comment reply   span class  reply    span   div    div      comment inner        div      comment wrapper        li       comment         li class  comment byuser comment author      odd alt thread odd thread alt depth    id  li comment          div class  comment wrapper  id  comment          div class  comment inner    div class  comment avatar    a class  vbridge avatar link  href  https   www flyertalk com forum member php u        img alt  amanuensis  border     class  avatar avatar    photo avatar default  height      src   forum customavatars avatar       gif  width         a    div   div class  commentmeta    p class  comment meta      cite class  fn   a class  url  href  https   www flyertalk com forum member php u       rel  external nofollow  amanuensis  a   cite    p   p class  comment meta           july          at      pm             p    div   div class  text    div class  c    p perhaps the slc one will have the special  lake stink  scent that you can usually only get when the wind blows just right   p   p  a href  https   www deseretnews com article        utahs lake stink smells of unstoppable bacteria decay html  rel  nofollow  https   www deseretnews com article        utahs lake stink smells of unstoppable bacteria decay html  a   p    div    div       text       div class  clear    div   div class  comment reply   span class  reply    span   div    div      comment inner        div      comment wrapper        li       comment          ol   p     you must be logged in on the forum to post a comment    a href   forum index php redirect https  a  f  fwww flyertalk com  farticles  flove the smell of airports you can spray your home with a special airport fragrance html       login     a    p   div class  comment respond  id  respond    h  class  comment reply title  id  reply title   h  class  post header   span class  post header  leave a reply  span   h    small  a href   articles love the smell of airports you can spray your home with a special airport fragrance html respond  id  cancel comment reply link  rel  nofollow  style  display none   cancel reply  a   small   h   p class  must log in  you must be  a href  https   www flyertalk com wp login php redirect to https  a  f  fwww flyertalk com  farticles  flove the smell of airports you can spray your home with a special airport fragrance html  logged in  a  to post a comment   p    div       respond       div     comments      div     right content     div class  left relative  id  left content    div class  post cat contain left relative    span class  img cat left   a href  https   www flyertalk com articles category airports  airports  a   span    div     post cat contain     div class  post date wrap left relative post date reg    span class  post date   time class  post date updated  datetime              itemprop  datepublished  pubdate    july           time   span    div     post date wrap     div class  author info wrap left relative    div class  author img left    img alt  jennifer billock  class  avatar avatar     wp user avatar wp user avatar     alignnone photo  height      src  https   www flyertalk com wp content uploads         jenbillock jpg  width                img alt    src  http     gravatar com avatar d ecd cca d cc   d cdedb  dd f   s     amp d mm amp r g  srcset  http     gravatar com avatar d ecd cca d cc   d cdedb  dd f   s     amp d mm amp r g  x  class  avatar avatar     photo  height       width                div     author img     span class  vcard author    span class  author name left fn  itemprop  author   a href  https   www flyertalk com articles author jenniferbillock  title  posts by jennifer billock  jennifer billock  a   span    span   p class  author desc left    p    div     author info wrap     div class  post tags    span class  post tags header  related items  span  span itemprop  keywords   a href  https   www flyertalk com articles tag airports    rel  tag  airports  a  a href  https   www flyertalk com articles tag fragrance  rel  tag  fragrance  a  a href  https   www flyertalk com articles tag memories  rel  tag  memories  a   span    div     post tags      div     left content      div     post area      div     post content wrapper      article   div class  left relative  id  post latest header    h  class  post latest left relative  more in airports  h     div     post latest header     div class  left relative infinite content  id  post latest wrap    div class  story contain left relative infinite post    a href  https   www flyertalk com articles hotel shuttle bus crash results in one death seven injuries html  rel  bookmark    div class  story contain img left    img alt    class  attachment medium thumb size medium thumb wp post image  height       sizes   max width     px     vw     px  src  https   www flyertalk com wp content uploads             px seatac airport station from international boulevard    x    jpg  srcset  https   www flyertalk com wp content uploads             px seatac airport station from international boulevard    x    jpg    w  https   www flyertalk com wp content uploads             px seatac airport station from international boulevard     x    jpg     w  width           div     story contain img     div class  story contain text    h  one man died in hotel shuttle bus crash  seven injured  h    div class  text info contain left relative    span class  home text author left  jennifer billock  span  span class  home text date left  july           span    div     text info contain      div     story contain text      a   div class  read share overlay    div class  read more box wrapper    a href  https   www flyertalk com articles hotel shuttle bus crash results in one death seven injuries html  rel  bookmark   span class  read more box  read more  span   a    div     read more box wrapper     div class  share box wrapper    div class  read more fb    a href     onclick  window open  http   www facebook com sharer php u https   www flyertalk com articles hotel shuttle bus crash results in one death seven injuries html amp t one man died in hotel shuttle bus crash  seven injured    facebookshare    width     height        return false   title  share on facebook   i class  fa fa facebook fa      i   a    div     read more fb     div class  read more twit    a href     onclick  window open  http   twitter com share text one man died in hotel shuttle bus crash  c seven injured   amp url https   www flyertalk com articles hotel shuttle bus crash results in one death seven injuries html    twittershare    width     height        return false   title  tweet this post   i class  fa fa twitter fa      i   a    div     read more twit     div class  read more comment    a href  https   www flyertalk com articles hotel shuttle bus crash results in one death seven injuries html comments button   i class  fa fa comments fa      i   a    div     read more comment      div     share box wrapper      div     read share overlay      div     story contain     div class  story contain left relative infinite post    a href  https   www flyertalk com articles fuel supply problem causes chaos at schiphol html  rel  bookmark    div class  story contain img left    img alt    class  attachment medium thumb size medium thumb wp post image  height       sizes   max width     px     vw     px  src  https   www flyertalk com wp content uploads         schiphol airport    x    jpg  srcset  https   www flyertalk com wp content uploads         schiphol airport    x    jpg    w  https   www flyertalk com wp content uploads         schiphol airport     x    jpg     w  width           div     story contain img     div class  story contain text    h  fuel supply problem causes chaos at schiphol  h    div class  text info contain left relative    span class  home text author left  jackie reddy  span  span class  home text date left  july           span    div     text info contain      div     story contain text      a   div class  read share overlay    div class  read more box wrapper    a href  https   www flyertalk com articles fuel supply problem causes chaos at schiphol html  rel  bookmark   span class  read more box  read more  span   a    div     read more box wrapper     div class  share box wrapper    div class  read more fb    a href     onclick  window open  http   www facebook com sharer php u https   www flyertalk com articles fuel supply problem causes chaos at schiphol html amp t fuel supply problem causes chaos at schiphol    facebookshare    width     height        return false   title  share on facebook   i class  fa fa facebook fa      i   a    div     read more fb     div class  read more twit    a href     onclick  window open  http   twitter com share text fuel supply problem causes chaos at schiphol   amp url https   www flyertalk com articles fuel supply problem causes chaos at schiphol html    twittershare    width     height        return false   title  tweet this post   i class  fa fa twitter fa      i   a    div     read more twit     div class  read more comment    a href  https   www flyertalk com articles fuel supply problem causes chaos at schiphol html comments button   i class  fa fa comments fa      i   a    div     read more comment      div     share box wrapper      div     read share overlay      div     story contain     div class  story contain left relative infinite post    a href  https   www flyertalk com articles luggage failure at heathrows terminal   sees passengers depart without bags html  rel  bookmark    div class  story contain img left    img alt    class  attachment medium thumb size medium thumb wp post image  height       sizes   max width     px     vw     px  src  https   www flyertalk com wp content uploads            baggagetheft    x    jpg  srcset  https   www flyertalk com wp content uploads            baggagetheft    x    jpg    w  https   www flyertalk com wp content uploads            baggagetheft    x    jpg    w  https   www flyertalk com wp content uploads            baggagetheft jpg     w  width           div     story contain img     div class  story contain text    h  luggage failure at heathrow s terminal   sees passengers depart without bags  h    div class  text info contain left relative    span class  home text author left  jeff edwards  span  span class  home text date left  july           span    div     text info contain      div     story contain text      a   div class  read share overlay    div class  read more box wrapper    a href  https   www flyertalk com articles luggage failure at heathrows terminal   sees passengers depart without bags html  rel  bookmark   span class  read more box  read more  span   a    div     read more box wrapper     div class  share box wrapper    div class  read more fb    a href     onclick  window open  http   www facebook com sharer php u https   www flyertalk com articles luggage failure at heathrows terminal   sees passengers depart without bags html amp t luggage failure at heathrow s terminal   sees passengers depart without bags    facebookshare    width     height        return false   title  share on facebook   i class  fa fa facebook fa      i   a    div     read more fb     div class  read more twit    a href     onclick  window open  http   twitter com share text luggage failure at heathrow e       s terminal   sees passengers depart without bags   amp url https   www flyertalk com articles luggage failure at heathrows terminal   sees passengers depart without bags html    twittershare    width     height        return false   title  tweet this post   i class  fa fa twitter fa      i   a    div     read more twit     div class  read more comment    a href  https   www flyertalk com articles luggage failure at heathrows terminal   sees passengers depart without bags html comments button   i class  fa fa comments fa      i   a    div     read more comment      div     share box wrapper      div     read share overlay      div     story contain      div     post latest wrap     div id  sidebar contain    div id  sidebar scroll wrap    span class  sidebar scroll  scroll for more  i class  fa fa caret down fa      i   span    div     sidebar scroll wrap     div id  sidebar mobi tab    span class  mobi tab but  tap  span    div     sidebar mobi tab     div class  left relative  id  sidebar main wrap    div id  sidebar main ad    div class  widget ad left relative    div id  div gpt ad                         script type  text javascript        googletag cmd push function     googletag display  div gpt ad                                  script    div    div     widget ad      div     sidebar main ad     div class  left relative  id  sidebar widget wrap    div class  left relative  id  sidebar widget in    div class  sidebar widget mvp sidecat widget  id  mvp sidecat widget     h  class  sidebar header left relative   span recent articles  span   h   div class  sidebar widget content left relative    ul class  sidebar list left relative    li class  sidebar post  id  sidebar post        post id        you can totally make your home smell like an airport    div class  sidebar list bg  style  background image url https   www flyertalk com wp content uploads                                  changiscent courtesysingaporechangiairport   jpg       div   div class  sidebar list text left relative w     onclick  document location href  https   www flyertalk com articles love the smell of airports you can spray your home with a special airport fragrance html      a href  https   www flyertalk com articles love the smell of airports you can spray your home with a special airport fragrance html  you can totally make your home smell like an airport  a   div class  widget post info left    span class  widget post cat  airports  span  span class  widget post date  july           span    div     widget post info      div     sidebar list text      li   li class  sidebar post  id  sidebar post        post id        american airlines may owe you a  small  refund    div class  sidebar list bg  style  background image url https   www flyertalk com wp content uploads         n   aw american airlines airbus a        jpg       div   div class  sidebar list text left relative w     onclick  document location href  https   www flyertalk com articles american airlines may owe you a small refund html      a href  https   www flyertalk com articles american airlines may owe you a small refund html  american airlines may owe you a  small  refund  a   div class  widget post info left    span class  widget post cat  airlines  span  span class  widget post date  july           span    div     widget post info      div     sidebar list text      li   li class  sidebar post  id  sidebar post        post id        ihg ditches mini toiletries    div class  sidebar list bg  style  background image url https   www flyertalk com wp content uploads         hotel toiletries jpg       div   div class  sidebar list text left relative w     onclick  document location href  https   www flyertalk com articles no more mini toiletries at ihg brands html      a href  https   www flyertalk com articles no more mini toiletries at ihg brands html  ihg ditches mini toiletries  a   div class  widget post info left    span class  widget post cat  hotels  span  span class  widget post date  july           span    div     widget post info      div     sidebar list text      li   li class  sidebar post  id  sidebar post        post id            million credit card accounts leaked in one of the largest hacks in north america    div class  sidebar list bg  style  background image url https   www flyertalk com wp content uploads         capitalone jpg       div   div class  sidebar list text left relative w     onclick  document location href  https   www flyertalk com articles your capital one information may have been compromised html      a href  https   www flyertalk com articles your capital one information may have been compromised html      million credit card accounts leaked in one of the largest hacks in north america  a   div class  widget post info left    span class  widget post cat  credit cards  span  span class  widget post date  july           span    div     widget post info      div     sidebar list text      li   li class  sidebar post  id  sidebar post        post id        flyertalker  busta rhymes threatened me in first class    div class  sidebar list bg  style  background image url https   www flyertalk com wp content uploads         shutterstock          jpg       div   div class  sidebar list text left relative w     onclick  document location href  https   www flyertalk com articles flyertalker report rapper busta rhymes for fuming in first class html      a href  https   www flyertalk com articles flyertalker report rapper busta rhymes for fuming in first class html  flyertalker  busta rhymes threatened me in first class  a   div class  widget post info left    span class  widget post cat  uncategorized  span  span class  widget post date  july           span    div     widget post info      div     sidebar list text      li   li class  sidebar post  id  sidebar post        post id        clear to take over united airlines hubs    div class  sidebar list bg  style  background image url https   www flyertalk com wp content uploads             px new central security checkpoint at lax t              jpg       div   div class  sidebar list text left relative w     onclick  document location href  https   www flyertalk com articles clear to take over united airlines hubs html      a href  https   www flyertalk com articles clear to take over united airlines hubs html  clear to take over united airlines hubs  a   div class  widget post info left    span class  widget post cat  airlines  span  span class  widget post date  july           span    div     widget post info      div     sidebar list text      li   li class  sidebar post  id  sidebar post        post id        head of boeing s     max retires  but the program doesn t    div class  sidebar list bg  style  background image url https   www flyertalk com wp content uploads         boeing     max jpg       div   div class  sidebar list text left relative w     onclick  document location href  https   www flyertalk com articles head of boeings     max retires but the program doesnt html      a href  https   www flyertalk com articles head of boeings     max retires but the program doesnt html  head of boeing s     max retires  but the program doesn t  a   div class  widget post info left    span class  widget post cat  boeing  span  span class  widget post date  july           span    div     widget post info      div     sidebar list text      li   li class  sidebar post  id  sidebar post        post id        seat poacher refuses to return seat  gets handcuffed to wheelchair    div class  sidebar list bg  style  background image url https   www flyertalk com wp content uploads         seat poacher png       div   div class  sidebar list text left relative w     onclick  document location href  https   www flyertalk com articles seat poacher refuses to return seat gets handcuffed to wheelchair html      a href  https   www flyertalk com articles seat poacher refuses to return seat gets handcuffed to wheelchair html  seat poacher refuses to return seat  gets handcuffed to wheelchair  a   div class  widget post info left    span class  widget post cat  passengers  span  span class  widget post date  july           span    div     widget post info      div     sidebar list text      li   li class  sidebar post  id  sidebar post        post id        first impression product review  viewtag    div class  sidebar list bg  style  background image url https   www flyertalk com wp content uploads         viewtag png       div   div class  sidebar list text left relative w     onclick  document location href  https   www flyertalk com articles first impression product review viewtag html      a href  https   www flyertalk com articles first impression product review viewtag html  first impression product review  viewtag  a   div class  widget post info left    span class  widget post cat  products  span  span class  widget post date  july           span    div     widget post info      div     sidebar list text      li   li class  sidebar post  id  sidebar post        post id        emirates runs a sale with fares starting at      to europe  other destinations    div class  sidebar list bg  style  background image url https   www flyertalk com wp content uploads         emirates airbus a        a  eer muc         jpg       div   div class  sidebar list text left relative w     onclick  document location href  https   www flyertalk com articles emirates runs a sale with fares starting at     to europe other destinations html      a href  https   www flyertalk com articles emirates runs a sale with fares starting at     to europe other destinations html  emirates runs a sale with fares starting at      to europe  other destinations  a   div class  widget post info left    span class  widget post cat  emirates  span  span class  widget post date  july           span    div     widget post info      div     sidebar list text      li   li class  sidebar post  id  sidebar post        post id        norwegian scraps u s  winter flights to europe    div class  sidebar list bg  style  background image url https   www flyertalk com wp content uploads         norwegian air wikimedia jpg       div   div class  sidebar list text left relative w     onclick  document location href  https   www flyertalk com articles norwegian scraps u s winter flights to europe html      a href  https   www flyertalk com articles norwegian scraps u s winter flights to europe html  norwegian scraps u s  winter flights to europe  a   div class  widget post info left    span class  widget post cat  airlines  span  span class  widget post date  july           span    div     widget post info      div     sidebar list text      li   li class  sidebar post  id  sidebar post        post id        british airways brings back cairo service    div class  sidebar list bg  style  background image url https   www flyertalk com wp content uploads         cairo jpg       div   div class  sidebar list text left relative w     onclick  document location href  https   www flyertalk com articles british airways brings back cairo service html      a href  https   www flyertalk com articles british airways brings back cairo service html  british airways brings back cairo service  a   div class  widget post info left    span class  widget post cat  airlines  span  span class  widget post date  july           span    div     widget post info      div     sidebar list text      li   li class  sidebar post  id  sidebar post        post id        how not to date an airline employee    div class  sidebar list bg  style  background image url https   www flyertalk com wp content uploads                cargo    jpg       div   div class  sidebar list text left relative w     onclick  document location href  https   www flyertalk com articles how not to date an airline employee html      a href  https   www flyertalk com articles how not to date an airline employee html  how not to date an airline employee  a   div class  widget post info left    span class  widget post cat  story time  span  span class  widget post date  july           span    div     widget post info      div     sidebar list text      li    ul    div   div    div     sidebar widget in      div     sidebar widget wrap      div     sidebar main wrap      div     sidebar contain     footer class  left relative  id  foot wrap    div class  left relative  id  foot leader    div id  div gpt ad                         script type  text javascript        googletag cmd push function     googletag display  div gpt ad                                  script    div    div     foot leader     div class  left relative  id  foot bottom    div class  left relative  id  foot copy    p copyright        top news theme  theme by mvp themes  powered by wordpress   p    div     foot copy     div class  relative  id  foot soc    ul class  foot soc list relative    li class  foot soc fb    a alt  facebook  href  https   www facebook com flyertalkforums  target   blank   i class  fa fa facebook square fa      i   a    li   li class  foot soc twit    a alt  twitter  href  https   twitter com flyertalk  target   blank   i class  fa fa twitter square fa      i   a    li   li class  foot soc rss    a href  https   www flyertalk com feed rss  target   blank   i class  fa fa rss square fa      i   a    li    ul    div     foot social      div     foot bottom      footer        div class  test         script       if typeof cachebuster      undefined   var cachebuster   math floor math random                     var mysrc    http   ad doubleclick net adj ft hp kw bottom docpt ist tile   sz    x   ord   cachebuster          document write   scr   ipt src    mysrc      scr   ipt           script       div        div     post content contain      div     post content in      div     post content out      div     post social in      div     post social out      div     content in      div     content out     div id  prev next wrap    div id  prev post wrap    div class  relative  id  prev post arrow    i class  fa fa angle left fa      i    div     prev post arrow     div class  prev next text    a href  https   www flyertalk com articles hotel shuttle bus crash results in one death seven injuries html  rel  prev  one man died in hotel shuttle bus crash  seven injured  a    div     prev post text      div     prev post wrap      div     prev next wrap      div     content wrapper      div     site     script type  text javascript          cdata    var infinitescroll     settings    id   post content contain   ajaxurl   https     www flyertalk com   infinity scrolling   type   scroll   wrapper  true  wrapper class   infinite wrap   footer   foot wrap   click handle       text   older posts   totop   scroll back to top   currentday              order   desc   scripts      styles      google analytics       offset     history    host   www flyertalk com   path     articles  love the smell of airports you can spray your home with a special airport fragrance html  page   d   use trailing slashes  false  parameters       query args    page     name   love the smell of airports you can spray your home with a special airport fragrance   error      m      p     post parent      subpost      subpost id      attachment      attachment id     static      pagename      page id     second      minute      hour      day     monthnum     year     w     category name      tag      cat      tag id      author      author name      feed      tb      paged     meta key      meta value      preview      s      sentence      title      fields      menu order      embed      category  in      category  not in      category  and      post  in      post  not in      post name  in      tag  in      tag  not in      tag  and      tag slug  in      tag slug  and      post parent  in      post parent  not in      author  in      author  not in      meta query     key   ft post custom url   value      compare         posts per page     ignore sticky posts  false  suppress filters  false  cache results  true  update post term cache  true  lazy load term meta  true  update post meta cache  true  post type      nopaging  false  comments per page        no found rows  false  order   desc    last post date                         postid         posttitle   you can totally make your home smell like an airport   posturl   https     www flyertalk com  articles  love the smell of airports you can spray your home with a special airport fragrance html                 script       start parse ly include  standard      div id  parsely root  style  display  none    div data parsely site  flyertalk com  id  parsely cfg    div    div   script data cfasync  false    function s  p  d      var h d location protocol  i p     s        e d getelementbyid i   r d getelementbyid p   root          u h    https    d z jf jlzjs   cloudfront net          static   p   com     if  e  return    e   d createelement s   e id   i  e async   true    e setattribute  data cfasync    false    e src   h      u   p js   r appendchild e       script    parsely   document     script       end parse ly include  standard      div id  infinite footer    div class  row    div class  blog info    a href  https   www flyertalk com   id  infinity blog title  rel  home         flyertalk   the world s most popular frequent flyer community       a    div   div class  blog credits    div class  iblogounify div  id  iblogounify div  style  clear  both  width     px  margin    px auto  px    img class  iblogounify img  id  iblogounify img  src  https   ibpxl com images ibnetwk travel gif     div    div    div    div       infinite footer      script src  https   www flyertalk com wp content plugins ft transporter transporter js ver           type  text javascript    script   script src  https   www flyertalk com wp includes js comment reply min js ver        type  text javascript    script   script src  https   www flyertalk com wp content themes topnews js scripts js ver        type  text javascript    script   script src  https   www flyertalk com wp content themes topnews js jquery nicescroll min js ver        type  text javascript    script   script src  https   www flyertalk com wp content themes topnews js jquery infinitescroll min js ver        type  text javascript    script   script src  https   www flyertalk com wp content themes topnews js custom footer js ver        type  text javascript    script   script src  https   www flyertalk com wp content plugins ft transporter lib spin min js ver           type  text javascript    script   script src  https   www flyertalk com wp content plugins ft transporter lib jquery viewport mini js ver           type  text javascript    script   script src  https   www flyertalk com wp includes js wp embed min js ver        type  text javascript    script   script type  text javascript      jquery extend  infinitescroll settings scripts    jquery core   jquery migrate   jquery   angularjs          flt homepage js   menufication js   menufication js setup   mcninja post transporter   comment reply   topnews   nicescroll   infinitescroll   custom footer   jquery spin   jquery viewport   wp embed         jquery extend  infinitescroll settings styles    mcninja post transporter   iecss   mvp style   reset   fontawesome   flt responsive   media queries   menufication css   menufication   googlefonts          script  script src    gdpr internetbrands com v  ibeugdpr min js  type  text javascript    script   script type  text javascript        ibeugdpr displaybanner       script   script    function src config  var script document createelement  script   script onload script onreadystatechange function e  var event e  window event if event type    load    loaded complete  test script readystate   document documentmode      script onload script onreadystatechange script onerror null new ibtracker config     script onerror function   script onload script onreadystatechange script onerror null   script async   script src src script setattribute  crossorigin   anonymous   document getelementsbytagname  head      appendchild script     https   ibclick stream assets js track dist js v  tracker min js   site  flyertalk com  vertical  travel  autopageviewtracking true autoclicktracking true snippetversion              script   script     var  comscore    comscore            comscore push   c        c                     function          var s   document createelement  script    el   document getelementsbytagname  script       s async   true       s src    document location protocol     https      https   sb     http   b       scorecardresearch com beacon js        el parentnode insertbefore s  el               script   noscript   img src    b scorecardresearch com p c    amp c          amp cv     amp cj        noscript   script  krux  ns internetbrands    consent set       dc  true    al  true    tg  true    cd  true    sh  true    re  true    function errors  body      if  errors        console error errors       else       console log  successfully set consent flags               script    body    html  '"
      ]
     },
     "execution_count": 22,
     "metadata": {},
     "output_type": "execute_result"
    }
   ],
   "source": [
    "x = df.iloc[1, -3]\n",
    "x"
   ]
  },
  {
   "cell_type": "code",
   "execution_count": null,
   "metadata": {},
   "outputs": [],
   "source": []
  }
 ],
 "metadata": {
  "kernelspec": {
   "display_name": "Python 3",
   "language": "python",
   "name": "python3"
  },
  "language_info": {
   "codemirror_mode": {
    "name": "ipython",
    "version": 3
   },
   "file_extension": ".py",
   "mimetype": "text/x-python",
   "name": "python",
   "nbconvert_exporter": "python",
   "pygments_lexer": "ipython3",
   "version": "3.7.1"
  }
 },
 "nbformat": 4,
 "nbformat_minor": 2
}
